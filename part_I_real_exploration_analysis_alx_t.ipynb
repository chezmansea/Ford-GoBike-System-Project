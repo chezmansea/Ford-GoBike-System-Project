{
 "cells": [
  {
   "cell_type": "markdown",
   "metadata": {},
   "source": [
    "# Part I - (Exploratory Visual Analysis of the Ford Gobike System Dataset)\n",
    "## by (Kazeem Adeyanju)\n",
    "\n",
    "## Introduction\n",
    "> The dataset for this project is the Ford Gobike system data. Ford Gobike is a model for equitable bike share access in the US and an exploration has been carried out on the dataset.\n",
    "The original dataset contains the following columns before analysis:\n",
    "\n",
    ">1. duration_sec\n",
    ">2.  start_time\n",
    ">3.  end_time\n",
    ">4.   start_station_id\n",
    ">5.  start_station_name\n",
    ">6.  start_station_latitude\n",
    ">7.  start_station_longitude\n",
    ">8.  end_station_id\n",
    ">9.  end_station_name\n",
    ">10.  end_station_latitude\n",
    ">11. end_station_longitude\n",
    ">12. bike_id\n",
    ">13. user_type\n",
    ">14. member_birth_year\n",
    ">15. member_gender\n",
    ">16.  bike_share_for_all_trip\n",
    "\n",
    "\n",
    "\n",
    "\n",
    "## Preliminary Wrangling\n"
   ]
  },
  {
   "cell_type": "code",
   "execution_count": 412,
   "metadata": {},
   "outputs": [],
   "source": [
    "# import all packages and set plots to be embedded inline\n",
    "import numpy as np\n",
    "import pandas as pd\n",
    "import matplotlib.pyplot as plt\n",
    "import seaborn as sb\n",
    "\n",
    "%matplotlib inline"
   ]
  },
  {
   "cell_type": "code",
   "execution_count": 413,
   "metadata": {
    "scrolled": true
   },
   "outputs": [
    {
     "data": {
      "text/html": [
       "<div>\n",
       "<style scoped>\n",
       "    .dataframe tbody tr th:only-of-type {\n",
       "        vertical-align: middle;\n",
       "    }\n",
       "\n",
       "    .dataframe tbody tr th {\n",
       "        vertical-align: top;\n",
       "    }\n",
       "\n",
       "    .dataframe thead th {\n",
       "        text-align: right;\n",
       "    }\n",
       "</style>\n",
       "<table border=\"1\" class=\"dataframe\">\n",
       "  <thead>\n",
       "    <tr style=\"text-align: right;\">\n",
       "      <th></th>\n",
       "      <th>duration_sec</th>\n",
       "      <th>start_time</th>\n",
       "      <th>end_time</th>\n",
       "      <th>start_station_id</th>\n",
       "      <th>start_station_name</th>\n",
       "      <th>start_station_latitude</th>\n",
       "      <th>start_station_longitude</th>\n",
       "      <th>end_station_id</th>\n",
       "      <th>end_station_name</th>\n",
       "      <th>end_station_latitude</th>\n",
       "      <th>end_station_longitude</th>\n",
       "      <th>bike_id</th>\n",
       "      <th>user_type</th>\n",
       "      <th>member_birth_year</th>\n",
       "      <th>member_gender</th>\n",
       "      <th>bike_share_for_all_trip</th>\n",
       "    </tr>\n",
       "  </thead>\n",
       "  <tbody>\n",
       "    <tr>\n",
       "      <th>0</th>\n",
       "      <td>52185</td>\n",
       "      <td>2019-02-28 17:32:10.1450</td>\n",
       "      <td>2019-03-01 08:01:55.9750</td>\n",
       "      <td>21.0</td>\n",
       "      <td>Montgomery St BART Station (Market St at 2nd St)</td>\n",
       "      <td>37.789625</td>\n",
       "      <td>-122.400811</td>\n",
       "      <td>13.0</td>\n",
       "      <td>Commercial St at Montgomery St</td>\n",
       "      <td>37.794231</td>\n",
       "      <td>-122.402923</td>\n",
       "      <td>4902</td>\n",
       "      <td>Customer</td>\n",
       "      <td>1984.0</td>\n",
       "      <td>Male</td>\n",
       "      <td>No</td>\n",
       "    </tr>\n",
       "    <tr>\n",
       "      <th>1</th>\n",
       "      <td>42521</td>\n",
       "      <td>2019-02-28 18:53:21.7890</td>\n",
       "      <td>2019-03-01 06:42:03.0560</td>\n",
       "      <td>23.0</td>\n",
       "      <td>The Embarcadero at Steuart St</td>\n",
       "      <td>37.791464</td>\n",
       "      <td>-122.391034</td>\n",
       "      <td>81.0</td>\n",
       "      <td>Berry St at 4th St</td>\n",
       "      <td>37.775880</td>\n",
       "      <td>-122.393170</td>\n",
       "      <td>2535</td>\n",
       "      <td>Customer</td>\n",
       "      <td>NaN</td>\n",
       "      <td>NaN</td>\n",
       "      <td>No</td>\n",
       "    </tr>\n",
       "    <tr>\n",
       "      <th>2</th>\n",
       "      <td>61854</td>\n",
       "      <td>2019-02-28 12:13:13.2180</td>\n",
       "      <td>2019-03-01 05:24:08.1460</td>\n",
       "      <td>86.0</td>\n",
       "      <td>Market St at Dolores St</td>\n",
       "      <td>37.769305</td>\n",
       "      <td>-122.426826</td>\n",
       "      <td>3.0</td>\n",
       "      <td>Powell St BART Station (Market St at 4th St)</td>\n",
       "      <td>37.786375</td>\n",
       "      <td>-122.404904</td>\n",
       "      <td>5905</td>\n",
       "      <td>Customer</td>\n",
       "      <td>1972.0</td>\n",
       "      <td>Male</td>\n",
       "      <td>No</td>\n",
       "    </tr>\n",
       "    <tr>\n",
       "      <th>3</th>\n",
       "      <td>36490</td>\n",
       "      <td>2019-02-28 17:54:26.0100</td>\n",
       "      <td>2019-03-01 04:02:36.8420</td>\n",
       "      <td>375.0</td>\n",
       "      <td>Grove St at Masonic Ave</td>\n",
       "      <td>37.774836</td>\n",
       "      <td>-122.446546</td>\n",
       "      <td>70.0</td>\n",
       "      <td>Central Ave at Fell St</td>\n",
       "      <td>37.773311</td>\n",
       "      <td>-122.444293</td>\n",
       "      <td>6638</td>\n",
       "      <td>Subscriber</td>\n",
       "      <td>1989.0</td>\n",
       "      <td>Other</td>\n",
       "      <td>No</td>\n",
       "    </tr>\n",
       "    <tr>\n",
       "      <th>4</th>\n",
       "      <td>1585</td>\n",
       "      <td>2019-02-28 23:54:18.5490</td>\n",
       "      <td>2019-03-01 00:20:44.0740</td>\n",
       "      <td>7.0</td>\n",
       "      <td>Frank H Ogawa Plaza</td>\n",
       "      <td>37.804562</td>\n",
       "      <td>-122.271738</td>\n",
       "      <td>222.0</td>\n",
       "      <td>10th Ave at E 15th St</td>\n",
       "      <td>37.792714</td>\n",
       "      <td>-122.248780</td>\n",
       "      <td>4898</td>\n",
       "      <td>Subscriber</td>\n",
       "      <td>1974.0</td>\n",
       "      <td>Male</td>\n",
       "      <td>Yes</td>\n",
       "    </tr>\n",
       "    <tr>\n",
       "      <th>5</th>\n",
       "      <td>1793</td>\n",
       "      <td>2019-02-28 23:49:58.6320</td>\n",
       "      <td>2019-03-01 00:19:51.7600</td>\n",
       "      <td>93.0</td>\n",
       "      <td>4th St at Mission Bay Blvd S</td>\n",
       "      <td>37.770407</td>\n",
       "      <td>-122.391198</td>\n",
       "      <td>323.0</td>\n",
       "      <td>Broadway at Kearny</td>\n",
       "      <td>37.798014</td>\n",
       "      <td>-122.405950</td>\n",
       "      <td>5200</td>\n",
       "      <td>Subscriber</td>\n",
       "      <td>1959.0</td>\n",
       "      <td>Male</td>\n",
       "      <td>No</td>\n",
       "    </tr>\n",
       "    <tr>\n",
       "      <th>6</th>\n",
       "      <td>1147</td>\n",
       "      <td>2019-02-28 23:55:35.1040</td>\n",
       "      <td>2019-03-01 00:14:42.5880</td>\n",
       "      <td>300.0</td>\n",
       "      <td>Palm St at Willow St</td>\n",
       "      <td>37.317298</td>\n",
       "      <td>-121.884995</td>\n",
       "      <td>312.0</td>\n",
       "      <td>San Jose Diridon Station</td>\n",
       "      <td>37.329732</td>\n",
       "      <td>-121.901782</td>\n",
       "      <td>3803</td>\n",
       "      <td>Subscriber</td>\n",
       "      <td>1983.0</td>\n",
       "      <td>Female</td>\n",
       "      <td>No</td>\n",
       "    </tr>\n",
       "    <tr>\n",
       "      <th>7</th>\n",
       "      <td>1615</td>\n",
       "      <td>2019-02-28 23:41:06.7660</td>\n",
       "      <td>2019-03-01 00:08:02.7560</td>\n",
       "      <td>10.0</td>\n",
       "      <td>Washington St at Kearny St</td>\n",
       "      <td>37.795393</td>\n",
       "      <td>-122.404770</td>\n",
       "      <td>127.0</td>\n",
       "      <td>Valencia St at 21st St</td>\n",
       "      <td>37.756708</td>\n",
       "      <td>-122.421025</td>\n",
       "      <td>6329</td>\n",
       "      <td>Subscriber</td>\n",
       "      <td>1989.0</td>\n",
       "      <td>Male</td>\n",
       "      <td>No</td>\n",
       "    </tr>\n",
       "    <tr>\n",
       "      <th>8</th>\n",
       "      <td>1570</td>\n",
       "      <td>2019-02-28 23:41:48.7900</td>\n",
       "      <td>2019-03-01 00:07:59.7150</td>\n",
       "      <td>10.0</td>\n",
       "      <td>Washington St at Kearny St</td>\n",
       "      <td>37.795393</td>\n",
       "      <td>-122.404770</td>\n",
       "      <td>127.0</td>\n",
       "      <td>Valencia St at 21st St</td>\n",
       "      <td>37.756708</td>\n",
       "      <td>-122.421025</td>\n",
       "      <td>6548</td>\n",
       "      <td>Subscriber</td>\n",
       "      <td>1988.0</td>\n",
       "      <td>Other</td>\n",
       "      <td>No</td>\n",
       "    </tr>\n",
       "    <tr>\n",
       "      <th>9</th>\n",
       "      <td>1049</td>\n",
       "      <td>2019-02-28 23:49:47.6990</td>\n",
       "      <td>2019-03-01 00:07:17.0250</td>\n",
       "      <td>19.0</td>\n",
       "      <td>Post St at Kearny St</td>\n",
       "      <td>37.788975</td>\n",
       "      <td>-122.403452</td>\n",
       "      <td>121.0</td>\n",
       "      <td>Mission Playground</td>\n",
       "      <td>37.759210</td>\n",
       "      <td>-122.421339</td>\n",
       "      <td>6488</td>\n",
       "      <td>Subscriber</td>\n",
       "      <td>1992.0</td>\n",
       "      <td>Male</td>\n",
       "      <td>No</td>\n",
       "    </tr>\n",
       "  </tbody>\n",
       "</table>\n",
       "</div>"
      ],
      "text/plain": [
       "   duration_sec                start_time                  end_time  \\\n",
       "0         52185  2019-02-28 17:32:10.1450  2019-03-01 08:01:55.9750   \n",
       "1         42521  2019-02-28 18:53:21.7890  2019-03-01 06:42:03.0560   \n",
       "2         61854  2019-02-28 12:13:13.2180  2019-03-01 05:24:08.1460   \n",
       "3         36490  2019-02-28 17:54:26.0100  2019-03-01 04:02:36.8420   \n",
       "4          1585  2019-02-28 23:54:18.5490  2019-03-01 00:20:44.0740   \n",
       "5          1793  2019-02-28 23:49:58.6320  2019-03-01 00:19:51.7600   \n",
       "6          1147  2019-02-28 23:55:35.1040  2019-03-01 00:14:42.5880   \n",
       "7          1615  2019-02-28 23:41:06.7660  2019-03-01 00:08:02.7560   \n",
       "8          1570  2019-02-28 23:41:48.7900  2019-03-01 00:07:59.7150   \n",
       "9          1049  2019-02-28 23:49:47.6990  2019-03-01 00:07:17.0250   \n",
       "\n",
       "   start_station_id                                start_station_name  \\\n",
       "0              21.0  Montgomery St BART Station (Market St at 2nd St)   \n",
       "1              23.0                     The Embarcadero at Steuart St   \n",
       "2              86.0                           Market St at Dolores St   \n",
       "3             375.0                           Grove St at Masonic Ave   \n",
       "4               7.0                               Frank H Ogawa Plaza   \n",
       "5              93.0                      4th St at Mission Bay Blvd S   \n",
       "6             300.0                              Palm St at Willow St   \n",
       "7              10.0                        Washington St at Kearny St   \n",
       "8              10.0                        Washington St at Kearny St   \n",
       "9              19.0                              Post St at Kearny St   \n",
       "\n",
       "   start_station_latitude  start_station_longitude  end_station_id  \\\n",
       "0               37.789625              -122.400811            13.0   \n",
       "1               37.791464              -122.391034            81.0   \n",
       "2               37.769305              -122.426826             3.0   \n",
       "3               37.774836              -122.446546            70.0   \n",
       "4               37.804562              -122.271738           222.0   \n",
       "5               37.770407              -122.391198           323.0   \n",
       "6               37.317298              -121.884995           312.0   \n",
       "7               37.795393              -122.404770           127.0   \n",
       "8               37.795393              -122.404770           127.0   \n",
       "9               37.788975              -122.403452           121.0   \n",
       "\n",
       "                               end_station_name  end_station_latitude  \\\n",
       "0                Commercial St at Montgomery St             37.794231   \n",
       "1                            Berry St at 4th St             37.775880   \n",
       "2  Powell St BART Station (Market St at 4th St)             37.786375   \n",
       "3                        Central Ave at Fell St             37.773311   \n",
       "4                         10th Ave at E 15th St             37.792714   \n",
       "5                            Broadway at Kearny             37.798014   \n",
       "6                      San Jose Diridon Station             37.329732   \n",
       "7                        Valencia St at 21st St             37.756708   \n",
       "8                        Valencia St at 21st St             37.756708   \n",
       "9                            Mission Playground             37.759210   \n",
       "\n",
       "   end_station_longitude  bike_id   user_type  member_birth_year  \\\n",
       "0            -122.402923     4902    Customer             1984.0   \n",
       "1            -122.393170     2535    Customer                NaN   \n",
       "2            -122.404904     5905    Customer             1972.0   \n",
       "3            -122.444293     6638  Subscriber             1989.0   \n",
       "4            -122.248780     4898  Subscriber             1974.0   \n",
       "5            -122.405950     5200  Subscriber             1959.0   \n",
       "6            -121.901782     3803  Subscriber             1983.0   \n",
       "7            -122.421025     6329  Subscriber             1989.0   \n",
       "8            -122.421025     6548  Subscriber             1988.0   \n",
       "9            -122.421339     6488  Subscriber             1992.0   \n",
       "\n",
       "  member_gender bike_share_for_all_trip  \n",
       "0          Male                      No  \n",
       "1           NaN                      No  \n",
       "2          Male                      No  \n",
       "3         Other                      No  \n",
       "4          Male                     Yes  \n",
       "5          Male                      No  \n",
       "6        Female                      No  \n",
       "7          Male                      No  \n",
       "8         Other                      No  \n",
       "9          Male                      No  "
      ]
     },
     "execution_count": 413,
     "metadata": {},
     "output_type": "execute_result"
    }
   ],
   "source": [
    "original_ford_bike = pd.read_csv('fordgobike_tripdata.csv')\n",
    "original_ford_bike.head(10)"
   ]
  },
  {
   "cell_type": "markdown",
   "metadata": {},
   "source": [
    "## First we will make a Copy of our dataset"
   ]
  },
  {
   "cell_type": "code",
   "execution_count": 414,
   "metadata": {},
   "outputs": [],
   "source": [
    "ford_bike = original_ford_bike.copy()"
   ]
  },
  {
   "cell_type": "markdown",
   "metadata": {},
   "source": [
    "#What is the structure of our dataset?"
   ]
  },
  {
   "cell_type": "code",
   "execution_count": 415,
   "metadata": {},
   "outputs": [
    {
     "data": {
      "text/plain": [
       "(183412, 16)"
      ]
     },
     "execution_count": 415,
     "metadata": {},
     "output_type": "execute_result"
    }
   ],
   "source": [
    "ford_bike.shape"
   ]
  },
  {
   "cell_type": "code",
   "execution_count": 416,
   "metadata": {},
   "outputs": [
    {
     "name": "stdout",
     "output_type": "stream",
     "text": [
      "<class 'pandas.core.frame.DataFrame'>\n",
      "RangeIndex: 183412 entries, 0 to 183411\n",
      "Data columns (total 16 columns):\n",
      " #   Column                   Non-Null Count   Dtype  \n",
      "---  ------                   --------------   -----  \n",
      " 0   duration_sec             183412 non-null  int64  \n",
      " 1   start_time               183412 non-null  object \n",
      " 2   end_time                 183412 non-null  object \n",
      " 3   start_station_id         183215 non-null  float64\n",
      " 4   start_station_name       183215 non-null  object \n",
      " 5   start_station_latitude   183412 non-null  float64\n",
      " 6   start_station_longitude  183412 non-null  float64\n",
      " 7   end_station_id           183215 non-null  float64\n",
      " 8   end_station_name         183215 non-null  object \n",
      " 9   end_station_latitude     183412 non-null  float64\n",
      " 10  end_station_longitude    183412 non-null  float64\n",
      " 11  bike_id                  183412 non-null  int64  \n",
      " 12  user_type                183412 non-null  object \n",
      " 13  member_birth_year        175147 non-null  float64\n",
      " 14  member_gender            175147 non-null  object \n",
      " 15  bike_share_for_all_trip  183412 non-null  object \n",
      "dtypes: float64(7), int64(2), object(7)\n",
      "memory usage: 22.4+ MB\n"
     ]
    }
   ],
   "source": [
    "ford_bike.info()"
   ]
  },
  {
   "cell_type": "markdown",
   "metadata": {},
   "source": [
    "#The above dataset structure shows there 183412 trips with 16 features\n"
   ]
  },
  {
   "cell_type": "markdown",
   "metadata": {},
   "source": [
    "#What are the main features of our dataset?"
   ]
  },
  {
   "cell_type": "markdown",
   "metadata": {},
   "source": [
    "#As seen above our dataset contains start time, start station,end station  and end time.\n",
    "#These variables would be my focus as these times can help determine the time most...\n",
    "#...trips occur, the busiest day of the week or month and the least used location among other things"
   ]
  },
  {
   "cell_type": "markdown",
   "metadata": {},
   "source": [
    "## Univariate Exploration"
   ]
  },
  {
   "cell_type": "markdown",
   "metadata": {},
   "source": [
    "#To begin our exploration. We need to see if our dataset are in the right datatype format"
   ]
  },
  {
   "cell_type": "code",
   "execution_count": 417,
   "metadata": {
    "scrolled": true
   },
   "outputs": [
    {
     "name": "stdout",
     "output_type": "stream",
     "text": [
      "<class 'pandas.core.frame.DataFrame'>\n",
      "RangeIndex: 183412 entries, 0 to 183411\n",
      "Data columns (total 16 columns):\n",
      " #   Column                   Non-Null Count   Dtype  \n",
      "---  ------                   --------------   -----  \n",
      " 0   duration_sec             183412 non-null  int64  \n",
      " 1   start_time               183412 non-null  object \n",
      " 2   end_time                 183412 non-null  object \n",
      " 3   start_station_id         183215 non-null  float64\n",
      " 4   start_station_name       183215 non-null  object \n",
      " 5   start_station_latitude   183412 non-null  float64\n",
      " 6   start_station_longitude  183412 non-null  float64\n",
      " 7   end_station_id           183215 non-null  float64\n",
      " 8   end_station_name         183215 non-null  object \n",
      " 9   end_station_latitude     183412 non-null  float64\n",
      " 10  end_station_longitude    183412 non-null  float64\n",
      " 11  bike_id                  183412 non-null  int64  \n",
      " 12  user_type                183412 non-null  object \n",
      " 13  member_birth_year        175147 non-null  float64\n",
      " 14  member_gender            175147 non-null  object \n",
      " 15  bike_share_for_all_trip  183412 non-null  object \n",
      "dtypes: float64(7), int64(2), object(7)\n",
      "memory usage: 22.4+ MB\n"
     ]
    }
   ],
   "source": [
    "ford_bike.info()"
   ]
  },
  {
   "cell_type": "markdown",
   "metadata": {},
   "source": [
    "#We will change our datatypes to the right formats for some variables. "
   ]
  },
  {
   "cell_type": "code",
   "execution_count": 418,
   "metadata": {},
   "outputs": [],
   "source": [
    "new_data_type = {'start_time': 'datetime64[ns]', \n",
    "        'end_time': 'datetime64[ns]',\n",
    "        'start_station_id': 'object',\n",
    "        'end_station_id': 'object',\n",
    "        'start_station_latitude': 'object',\n",
    "        'start_station_longitude':  'object',\n",
    "        'end_station_latitude':  'object',\n",
    "        'end_station_longitude':  'object',\n",
    "         'bike_id': 'object',\n",
    "         'user_type': 'category', \n",
    "         'member_birth_year': 'datetime64[ns]', \n",
    "         'member_gender':'category'}\n",
    "ford_bike = ford_bike.astype(new_data_type)"
   ]
  },
  {
   "cell_type": "code",
   "execution_count": 419,
   "metadata": {},
   "outputs": [
    {
     "name": "stdout",
     "output_type": "stream",
     "text": [
      "<class 'pandas.core.frame.DataFrame'>\n",
      "RangeIndex: 183412 entries, 0 to 183411\n",
      "Data columns (total 16 columns):\n",
      " #   Column                   Non-Null Count   Dtype         \n",
      "---  ------                   --------------   -----         \n",
      " 0   duration_sec             183412 non-null  int64         \n",
      " 1   start_time               183412 non-null  datetime64[ns]\n",
      " 2   end_time                 183412 non-null  datetime64[ns]\n",
      " 3   start_station_id         183215 non-null  object        \n",
      " 4   start_station_name       183215 non-null  object        \n",
      " 5   start_station_latitude   183412 non-null  object        \n",
      " 6   start_station_longitude  183412 non-null  object        \n",
      " 7   end_station_id           183215 non-null  object        \n",
      " 8   end_station_name         183215 non-null  object        \n",
      " 9   end_station_latitude     183412 non-null  object        \n",
      " 10  end_station_longitude    183412 non-null  object        \n",
      " 11  bike_id                  183412 non-null  object        \n",
      " 12  user_type                183412 non-null  category      \n",
      " 13  member_birth_year        175147 non-null  datetime64[ns]\n",
      " 14  member_gender            175147 non-null  category      \n",
      " 15  bike_share_for_all_trip  183412 non-null  object        \n",
      "dtypes: category(2), datetime64[ns](3), int64(1), object(10)\n",
      "memory usage: 19.9+ MB\n"
     ]
    }
   ],
   "source": [
    "#Lets test to confirm our new changes\n",
    "\n",
    "ford_bike.info()"
   ]
  },
  {
   "cell_type": "markdown",
   "metadata": {},
   "source": [
    "#Now we have our time variables in the right datatype"
   ]
  },
  {
   "cell_type": "markdown",
   "metadata": {},
   "source": [
    "### What features in the dataset can help support my investigation into my feature(s) of interest?"
   ]
  },
  {
   "cell_type": "markdown",
   "metadata": {},
   "source": [
    "#The day of week, month of year, are features that can be of significant support...\n",
    "#We can derive this from our time variables."
   ]
  },
  {
   "cell_type": "code",
   "execution_count": 420,
   "metadata": {},
   "outputs": [],
   "source": [
    "#Let's create a column for day of week each trip started\n",
    "\n",
    "ford_bike['start_weekday'] = ford_bike['start_time'].dt.dayofweek\n",
    "\n",
    "days = {0:'Mon',1:'Tues',2:'Weds',3:'Thurs',4:'Fri',5:'Sat',6:'Sun'}\n",
    "\n",
    "ford_bike['start_weekday'] = ford_bike['start_weekday'].apply(lambda x: days[x])"
   ]
  },
  {
   "cell_type": "code",
   "execution_count": 421,
   "metadata": {},
   "outputs": [],
   "source": [
    "#Let's create another column for day of week each trip ended\n",
    "\n",
    "ford_bike['end_weekday'] = ford_bike['end_time'].dt.dayofweek\n",
    "\n",
    "days = {0:'Mon',1:'Tues',2:'Weds',3:'Thurs',4:'Fri',5:'Sat',6:'Sun'}\n",
    "\n",
    "ford_bike['end_weekday'] = ford_bike['end_weekday'].apply(lambda x: days[x])"
   ]
  },
  {
   "cell_type": "code",
   "execution_count": 422,
   "metadata": {},
   "outputs": [
    {
     "data": {
      "text/plain": [
       "array(['Thurs', 'Weds', 'Tues', 'Mon', 'Sun', 'Sat', 'Fri'], dtype=object)"
      ]
     },
     "execution_count": 422,
     "metadata": {},
     "output_type": "execute_result"
    }
   ],
   "source": [
    "ford_bike['start_weekday'].unique()"
   ]
  },
  {
   "cell_type": "code",
   "execution_count": null,
   "metadata": {},
   "outputs": [],
   "source": []
  },
  {
   "cell_type": "code",
   "execution_count": 423,
   "metadata": {},
   "outputs": [],
   "source": [
    "#ford_bike['start_weekday'].value_counts().sort_index().plot(kind= 'bar');"
   ]
  },
  {
   "cell_type": "code",
   "execution_count": 424,
   "metadata": {},
   "outputs": [],
   "source": [
    "ford_bike['start_weekday'] = pd.Categorical(ford_bike['start_weekday'], categories=\n",
    "    ['Mon','Tues','Weds','Thurs','Fri','Sat', 'Sun'],\n",
    "    ordered=True)"
   ]
  },
  {
   "cell_type": "code",
   "execution_count": 425,
   "metadata": {},
   "outputs": [
    {
     "data": {
      "text/plain": [
       "Mon      26852\n",
       "Tues     31813\n",
       "Weds     29641\n",
       "Thurs    35197\n",
       "Fri      28981\n",
       "Sat      15405\n",
       "Sun      15523\n",
       "Name: start_weekday, dtype: int64"
      ]
     },
     "execution_count": 425,
     "metadata": {},
     "output_type": "execute_result"
    }
   ],
   "source": [
    "ford_bike['start_weekday'].value_counts().sort_index()"
   ]
  },
  {
   "cell_type": "code",
   "execution_count": 426,
   "metadata": {},
   "outputs": [],
   "source": [
    "#Let's create a column for year of Birth and Age from member birth year column"
   ]
  },
  {
   "cell_type": "code",
   "execution_count": 427,
   "metadata": {},
   "outputs": [],
   "source": [
    "ford_bike['member_birth_year'] =ford_bike['member_birth_year'].astype(str)"
   ]
  },
  {
   "cell_type": "code",
   "execution_count": 428,
   "metadata": {},
   "outputs": [],
   "source": [
    "ford_bike['year_of_birth'] =ford_bike['member_birth_year'].str[-4:]"
   ]
  },
  {
   "cell_type": "code",
   "execution_count": 429,
   "metadata": {},
   "outputs": [
    {
     "data": {
      "text/plain": [
       "array(['1984', 'NaT', '1972', '1989', '1974', '1959', '1983', '1988',\n",
       "       '1992', '1996', '1993', '1990', '1981', '1975', '1978', '1991',\n",
       "       '1997', '1986', '2000', '1982', '1995', '1980', '1973', '1985',\n",
       "       '1971', '1979', '1967', '1998', '1994', '1977', '1999', '1987',\n",
       "       '1969', '1963', '1976', '1964', '1965', '1961', '1968', '1966',\n",
       "       '1962', '1954', '1958', '1960', '1970', '1956', '1957', '1945',\n",
       "       '1900', '1952', '1948', '1951', '1941', '1950', '1949', '1953',\n",
       "       '1955', '1946', '1947', '1931', '1943', '1942', '1920', '1933',\n",
       "       '2001', '1878', '1901', '1944', '1928', '1934', '1939', '1930',\n",
       "       '1902', '1910', '1938', '1927'], dtype=object)"
      ]
     },
     "execution_count": 429,
     "metadata": {},
     "output_type": "execute_result"
    }
   ],
   "source": [
    "ford_bike['year_of_birth'].unique()"
   ]
  },
  {
   "cell_type": "code",
   "execution_count": 430,
   "metadata": {},
   "outputs": [
    {
     "data": {
      "text/plain": [
       "0         Thurs\n",
       "1         Thurs\n",
       "2         Thurs\n",
       "3         Thurs\n",
       "4         Thurs\n",
       "          ...  \n",
       "183407      Fri\n",
       "183408      Fri\n",
       "183409      Fri\n",
       "183410      Fri\n",
       "183411      Fri\n",
       "Name: start_weekday, Length: 183412, dtype: category\n",
       "Categories (7, object): ['Mon' < 'Tues' < 'Weds' < 'Thurs' < 'Fri' < 'Sat' < 'Sun']"
      ]
     },
     "execution_count": 430,
     "metadata": {},
     "output_type": "execute_result"
    }
   ],
   "source": [
    "ford_bike['start_weekday']"
   ]
  },
  {
   "cell_type": "code",
   "execution_count": 431,
   "metadata": {},
   "outputs": [],
   "source": [
    "#We would delete the rows containing 'NaT' in our dataset before changing the datatype to integer\n",
    "\n",
    "ford_bike = ford_bike[ford_bike.year_of_birth != 'NaT']"
   ]
  },
  {
   "cell_type": "code",
   "execution_count": 432,
   "metadata": {},
   "outputs": [
    {
     "data": {
      "text/plain": [
       "array(['1984', '1972', '1989', '1974', '1959', '1983', '1988', '1992',\n",
       "       '1996', '1993', '1990', '1981', '1975', '1978', '1991', '1997',\n",
       "       '1986', '2000', '1982', '1995', '1980', '1973', '1985', '1971',\n",
       "       '1979', '1967', '1998', '1994', '1977', '1999', '1987', '1969',\n",
       "       '1963', '1976', '1964', '1965', '1961', '1968', '1966', '1962',\n",
       "       '1954', '1958', '1960', '1970', '1956', '1957', '1945', '1900',\n",
       "       '1952', '1948', '1951', '1941', '1950', '1949', '1953', '1955',\n",
       "       '1946', '1947', '1931', '1943', '1942', '1920', '1933', '2001',\n",
       "       '1878', '1901', '1944', '1928', '1934', '1939', '1930', '1902',\n",
       "       '1910', '1938', '1927'], dtype=object)"
      ]
     },
     "execution_count": 432,
     "metadata": {},
     "output_type": "execute_result"
    }
   ],
   "source": [
    "ford_bike['year_of_birth'].unique()"
   ]
  },
  {
   "cell_type": "code",
   "execution_count": 433,
   "metadata": {},
   "outputs": [],
   "source": [
    "ford_bike['year_of_birth'] = ford_bike['year_of_birth'].astype(int)"
   ]
  },
  {
   "cell_type": "code",
   "execution_count": 434,
   "metadata": {},
   "outputs": [],
   "source": [
    "ford_bike['age'] = 2019 - ford_bike['year_of_birth']"
   ]
  },
  {
   "cell_type": "code",
   "execution_count": 435,
   "metadata": {},
   "outputs": [
    {
     "data": {
      "text/plain": [
       "0         35\n",
       "2         47\n",
       "3         30\n",
       "4         45\n",
       "5         60\n",
       "          ..\n",
       "183407    23\n",
       "183408    35\n",
       "183409    29\n",
       "183410    31\n",
       "183411    30\n",
       "Name: age, Length: 175147, dtype: int32"
      ]
     },
     "execution_count": 435,
     "metadata": {},
     "output_type": "execute_result"
    }
   ],
   "source": [
    "ford_bike['age']"
   ]
  },
  {
   "cell_type": "markdown",
   "metadata": {},
   "source": [
    "#Lets test to confirm our addition"
   ]
  },
  {
   "cell_type": "code",
   "execution_count": 436,
   "metadata": {},
   "outputs": [
    {
     "name": "stdout",
     "output_type": "stream",
     "text": [
      "<class 'pandas.core.frame.DataFrame'>\n",
      "Int64Index: 175147 entries, 0 to 183411\n",
      "Data columns (total 20 columns):\n",
      " #   Column                   Non-Null Count   Dtype         \n",
      "---  ------                   --------------   -----         \n",
      " 0   duration_sec             175147 non-null  int64         \n",
      " 1   start_time               175147 non-null  datetime64[ns]\n",
      " 2   end_time                 175147 non-null  datetime64[ns]\n",
      " 3   start_station_id         174952 non-null  object        \n",
      " 4   start_station_name       174952 non-null  object        \n",
      " 5   start_station_latitude   175147 non-null  object        \n",
      " 6   start_station_longitude  175147 non-null  object        \n",
      " 7   end_station_id           174952 non-null  object        \n",
      " 8   end_station_name         174952 non-null  object        \n",
      " 9   end_station_latitude     175147 non-null  object        \n",
      " 10  end_station_longitude    175147 non-null  object        \n",
      " 11  bike_id                  175147 non-null  object        \n",
      " 12  user_type                175147 non-null  category      \n",
      " 13  member_birth_year        175147 non-null  object        \n",
      " 14  member_gender            175147 non-null  category      \n",
      " 15  bike_share_for_all_trip  175147 non-null  object        \n",
      " 16  start_weekday            175147 non-null  category      \n",
      " 17  end_weekday              175147 non-null  object        \n",
      " 18  year_of_birth            175147 non-null  int32         \n",
      " 19  age                      175147 non-null  int32         \n",
      "dtypes: category(3), datetime64[ns](2), int32(2), int64(1), object(12)\n",
      "memory usage: 23.2+ MB\n"
     ]
    },
    {
     "data": {
      "text/html": [
       "<div>\n",
       "<style scoped>\n",
       "    .dataframe tbody tr th:only-of-type {\n",
       "        vertical-align: middle;\n",
       "    }\n",
       "\n",
       "    .dataframe tbody tr th {\n",
       "        vertical-align: top;\n",
       "    }\n",
       "\n",
       "    .dataframe thead th {\n",
       "        text-align: right;\n",
       "    }\n",
       "</style>\n",
       "<table border=\"1\" class=\"dataframe\">\n",
       "  <thead>\n",
       "    <tr style=\"text-align: right;\">\n",
       "      <th></th>\n",
       "      <th>duration_sec</th>\n",
       "      <th>start_time</th>\n",
       "      <th>end_time</th>\n",
       "      <th>start_station_id</th>\n",
       "      <th>start_station_name</th>\n",
       "      <th>start_station_latitude</th>\n",
       "      <th>start_station_longitude</th>\n",
       "      <th>end_station_id</th>\n",
       "      <th>end_station_name</th>\n",
       "      <th>end_station_latitude</th>\n",
       "      <th>end_station_longitude</th>\n",
       "      <th>bike_id</th>\n",
       "      <th>user_type</th>\n",
       "      <th>member_birth_year</th>\n",
       "      <th>member_gender</th>\n",
       "      <th>bike_share_for_all_trip</th>\n",
       "      <th>start_weekday</th>\n",
       "      <th>end_weekday</th>\n",
       "      <th>year_of_birth</th>\n",
       "      <th>age</th>\n",
       "    </tr>\n",
       "  </thead>\n",
       "  <tbody>\n",
       "    <tr>\n",
       "      <th>0</th>\n",
       "      <td>52185</td>\n",
       "      <td>2019-02-28 17:32:10.145</td>\n",
       "      <td>2019-03-01 08:01:55.975</td>\n",
       "      <td>21.0</td>\n",
       "      <td>Montgomery St BART Station (Market St at 2nd St)</td>\n",
       "      <td>37.789625</td>\n",
       "      <td>-122.400811</td>\n",
       "      <td>13.0</td>\n",
       "      <td>Commercial St at Montgomery St</td>\n",
       "      <td>37.794231</td>\n",
       "      <td>-122.402923</td>\n",
       "      <td>4902</td>\n",
       "      <td>Customer</td>\n",
       "      <td>1970-01-01 00:00:00.000001984</td>\n",
       "      <td>Male</td>\n",
       "      <td>No</td>\n",
       "      <td>Thurs</td>\n",
       "      <td>Fri</td>\n",
       "      <td>1984</td>\n",
       "      <td>35</td>\n",
       "    </tr>\n",
       "    <tr>\n",
       "      <th>2</th>\n",
       "      <td>61854</td>\n",
       "      <td>2019-02-28 12:13:13.218</td>\n",
       "      <td>2019-03-01 05:24:08.146</td>\n",
       "      <td>86.0</td>\n",
       "      <td>Market St at Dolores St</td>\n",
       "      <td>37.769305</td>\n",
       "      <td>-122.426826</td>\n",
       "      <td>3.0</td>\n",
       "      <td>Powell St BART Station (Market St at 4th St)</td>\n",
       "      <td>37.786375</td>\n",
       "      <td>-122.404904</td>\n",
       "      <td>5905</td>\n",
       "      <td>Customer</td>\n",
       "      <td>1970-01-01 00:00:00.000001972</td>\n",
       "      <td>Male</td>\n",
       "      <td>No</td>\n",
       "      <td>Thurs</td>\n",
       "      <td>Fri</td>\n",
       "      <td>1972</td>\n",
       "      <td>47</td>\n",
       "    </tr>\n",
       "    <tr>\n",
       "      <th>3</th>\n",
       "      <td>36490</td>\n",
       "      <td>2019-02-28 17:54:26.010</td>\n",
       "      <td>2019-03-01 04:02:36.842</td>\n",
       "      <td>375.0</td>\n",
       "      <td>Grove St at Masonic Ave</td>\n",
       "      <td>37.774836</td>\n",
       "      <td>-122.446546</td>\n",
       "      <td>70.0</td>\n",
       "      <td>Central Ave at Fell St</td>\n",
       "      <td>37.773311</td>\n",
       "      <td>-122.444293</td>\n",
       "      <td>6638</td>\n",
       "      <td>Subscriber</td>\n",
       "      <td>1970-01-01 00:00:00.000001989</td>\n",
       "      <td>Other</td>\n",
       "      <td>No</td>\n",
       "      <td>Thurs</td>\n",
       "      <td>Fri</td>\n",
       "      <td>1989</td>\n",
       "      <td>30</td>\n",
       "    </tr>\n",
       "    <tr>\n",
       "      <th>4</th>\n",
       "      <td>1585</td>\n",
       "      <td>2019-02-28 23:54:18.549</td>\n",
       "      <td>2019-03-01 00:20:44.074</td>\n",
       "      <td>7.0</td>\n",
       "      <td>Frank H Ogawa Plaza</td>\n",
       "      <td>37.804562</td>\n",
       "      <td>-122.271738</td>\n",
       "      <td>222.0</td>\n",
       "      <td>10th Ave at E 15th St</td>\n",
       "      <td>37.792714</td>\n",
       "      <td>-122.24878</td>\n",
       "      <td>4898</td>\n",
       "      <td>Subscriber</td>\n",
       "      <td>1970-01-01 00:00:00.000001974</td>\n",
       "      <td>Male</td>\n",
       "      <td>Yes</td>\n",
       "      <td>Thurs</td>\n",
       "      <td>Fri</td>\n",
       "      <td>1974</td>\n",
       "      <td>45</td>\n",
       "    </tr>\n",
       "    <tr>\n",
       "      <th>5</th>\n",
       "      <td>1793</td>\n",
       "      <td>2019-02-28 23:49:58.632</td>\n",
       "      <td>2019-03-01 00:19:51.760</td>\n",
       "      <td>93.0</td>\n",
       "      <td>4th St at Mission Bay Blvd S</td>\n",
       "      <td>37.770407</td>\n",
       "      <td>-122.391198</td>\n",
       "      <td>323.0</td>\n",
       "      <td>Broadway at Kearny</td>\n",
       "      <td>37.798014</td>\n",
       "      <td>-122.40595</td>\n",
       "      <td>5200</td>\n",
       "      <td>Subscriber</td>\n",
       "      <td>1970-01-01 00:00:00.000001959</td>\n",
       "      <td>Male</td>\n",
       "      <td>No</td>\n",
       "      <td>Thurs</td>\n",
       "      <td>Fri</td>\n",
       "      <td>1959</td>\n",
       "      <td>60</td>\n",
       "    </tr>\n",
       "  </tbody>\n",
       "</table>\n",
       "</div>"
      ],
      "text/plain": [
       "   duration_sec              start_time                end_time  \\\n",
       "0         52185 2019-02-28 17:32:10.145 2019-03-01 08:01:55.975   \n",
       "2         61854 2019-02-28 12:13:13.218 2019-03-01 05:24:08.146   \n",
       "3         36490 2019-02-28 17:54:26.010 2019-03-01 04:02:36.842   \n",
       "4          1585 2019-02-28 23:54:18.549 2019-03-01 00:20:44.074   \n",
       "5          1793 2019-02-28 23:49:58.632 2019-03-01 00:19:51.760   \n",
       "\n",
       "  start_station_id                                start_station_name  \\\n",
       "0             21.0  Montgomery St BART Station (Market St at 2nd St)   \n",
       "2             86.0                           Market St at Dolores St   \n",
       "3            375.0                           Grove St at Masonic Ave   \n",
       "4              7.0                               Frank H Ogawa Plaza   \n",
       "5             93.0                      4th St at Mission Bay Blvd S   \n",
       "\n",
       "  start_station_latitude start_station_longitude end_station_id  \\\n",
       "0              37.789625             -122.400811           13.0   \n",
       "2              37.769305             -122.426826            3.0   \n",
       "3              37.774836             -122.446546           70.0   \n",
       "4              37.804562             -122.271738          222.0   \n",
       "5              37.770407             -122.391198          323.0   \n",
       "\n",
       "                               end_station_name end_station_latitude  \\\n",
       "0                Commercial St at Montgomery St            37.794231   \n",
       "2  Powell St BART Station (Market St at 4th St)            37.786375   \n",
       "3                        Central Ave at Fell St            37.773311   \n",
       "4                         10th Ave at E 15th St            37.792714   \n",
       "5                            Broadway at Kearny            37.798014   \n",
       "\n",
       "  end_station_longitude bike_id   user_type              member_birth_year  \\\n",
       "0           -122.402923    4902    Customer  1970-01-01 00:00:00.000001984   \n",
       "2           -122.404904    5905    Customer  1970-01-01 00:00:00.000001972   \n",
       "3           -122.444293    6638  Subscriber  1970-01-01 00:00:00.000001989   \n",
       "4            -122.24878    4898  Subscriber  1970-01-01 00:00:00.000001974   \n",
       "5            -122.40595    5200  Subscriber  1970-01-01 00:00:00.000001959   \n",
       "\n",
       "  member_gender bike_share_for_all_trip start_weekday end_weekday  \\\n",
       "0          Male                      No         Thurs         Fri   \n",
       "2          Male                      No         Thurs         Fri   \n",
       "3         Other                      No         Thurs         Fri   \n",
       "4          Male                     Yes         Thurs         Fri   \n",
       "5          Male                      No         Thurs         Fri   \n",
       "\n",
       "   year_of_birth  age  \n",
       "0           1984   35  \n",
       "2           1972   47  \n",
       "3           1989   30  \n",
       "4           1974   45  \n",
       "5           1959   60  "
      ]
     },
     "execution_count": 436,
     "metadata": {},
     "output_type": "execute_result"
    }
   ],
   "source": [
    "ford_bike.info()\n",
    "ford_bike.head()"
   ]
  },
  {
   "cell_type": "markdown",
   "metadata": {},
   "source": [
    "#The new columns have been added and we can now proceed to be add the column for months"
   ]
  },
  {
   "cell_type": "code",
   "execution_count": 437,
   "metadata": {},
   "outputs": [],
   "source": [
    "#Let's create a column for month of year each trip started\n",
    "\n",
    "ford_bike['start_year_month'] = ford_bike['start_time'].dt.month\n",
    "\n",
    "months = {1:'Jan',2:'Feb',3:'Mar',4:'Apr',5:'May',6:'Jun',7:'Jul',8:'Aug', 9:'Sep', 10:'Oct', 11:'Nov', 12:'Dec'}\n",
    "\n",
    "ford_bike['start_year_month'] = ford_bike['start_year_month'].apply(lambda x: months[x])"
   ]
  },
  {
   "cell_type": "code",
   "execution_count": 438,
   "metadata": {},
   "outputs": [],
   "source": [
    "#Let's create another column for month of year each trip ended\n",
    "\n",
    "ford_bike['end_year_month'] = ford_bike['end_time'].dt.month\n",
    "\n",
    "months = {1:'Jan',2:'Feb',3:'Mar',4:'Apr',5:'May',6:'Jun',7:'Jul',8:'Aug', 9:'Sep', 10:'Oct', 11:'Nov', 12:'Dec'}\n",
    "\n",
    "ford_bike['end_year_month'] = ford_bike['end_year_month'].apply(lambda x: months[x])"
   ]
  },
  {
   "cell_type": "code",
   "execution_count": 439,
   "metadata": {
    "scrolled": true
   },
   "outputs": [
    {
     "name": "stdout",
     "output_type": "stream",
     "text": [
      "<class 'pandas.core.frame.DataFrame'>\n",
      "Int64Index: 175147 entries, 0 to 183411\n",
      "Data columns (total 22 columns):\n",
      " #   Column                   Non-Null Count   Dtype         \n",
      "---  ------                   --------------   -----         \n",
      " 0   duration_sec             175147 non-null  int64         \n",
      " 1   start_time               175147 non-null  datetime64[ns]\n",
      " 2   end_time                 175147 non-null  datetime64[ns]\n",
      " 3   start_station_id         174952 non-null  object        \n",
      " 4   start_station_name       174952 non-null  object        \n",
      " 5   start_station_latitude   175147 non-null  object        \n",
      " 6   start_station_longitude  175147 non-null  object        \n",
      " 7   end_station_id           174952 non-null  object        \n",
      " 8   end_station_name         174952 non-null  object        \n",
      " 9   end_station_latitude     175147 non-null  object        \n",
      " 10  end_station_longitude    175147 non-null  object        \n",
      " 11  bike_id                  175147 non-null  object        \n",
      " 12  user_type                175147 non-null  category      \n",
      " 13  member_birth_year        175147 non-null  object        \n",
      " 14  member_gender            175147 non-null  category      \n",
      " 15  bike_share_for_all_trip  175147 non-null  object        \n",
      " 16  start_weekday            175147 non-null  category      \n",
      " 17  end_weekday              175147 non-null  object        \n",
      " 18  year_of_birth            175147 non-null  int32         \n",
      " 19  age                      175147 non-null  int32         \n",
      " 20  start_year_month         175147 non-null  object        \n",
      " 21  end_year_month           175147 non-null  object        \n",
      "dtypes: category(3), datetime64[ns](2), int32(2), int64(1), object(14)\n",
      "memory usage: 25.9+ MB\n"
     ]
    },
    {
     "data": {
      "text/html": [
       "<div>\n",
       "<style scoped>\n",
       "    .dataframe tbody tr th:only-of-type {\n",
       "        vertical-align: middle;\n",
       "    }\n",
       "\n",
       "    .dataframe tbody tr th {\n",
       "        vertical-align: top;\n",
       "    }\n",
       "\n",
       "    .dataframe thead th {\n",
       "        text-align: right;\n",
       "    }\n",
       "</style>\n",
       "<table border=\"1\" class=\"dataframe\">\n",
       "  <thead>\n",
       "    <tr style=\"text-align: right;\">\n",
       "      <th></th>\n",
       "      <th>duration_sec</th>\n",
       "      <th>start_time</th>\n",
       "      <th>end_time</th>\n",
       "      <th>start_station_id</th>\n",
       "      <th>start_station_name</th>\n",
       "      <th>start_station_latitude</th>\n",
       "      <th>start_station_longitude</th>\n",
       "      <th>end_station_id</th>\n",
       "      <th>end_station_name</th>\n",
       "      <th>end_station_latitude</th>\n",
       "      <th>...</th>\n",
       "      <th>user_type</th>\n",
       "      <th>member_birth_year</th>\n",
       "      <th>member_gender</th>\n",
       "      <th>bike_share_for_all_trip</th>\n",
       "      <th>start_weekday</th>\n",
       "      <th>end_weekday</th>\n",
       "      <th>year_of_birth</th>\n",
       "      <th>age</th>\n",
       "      <th>start_year_month</th>\n",
       "      <th>end_year_month</th>\n",
       "    </tr>\n",
       "  </thead>\n",
       "  <tbody>\n",
       "    <tr>\n",
       "      <th>0</th>\n",
       "      <td>52185</td>\n",
       "      <td>2019-02-28 17:32:10.145</td>\n",
       "      <td>2019-03-01 08:01:55.975</td>\n",
       "      <td>21.0</td>\n",
       "      <td>Montgomery St BART Station (Market St at 2nd St)</td>\n",
       "      <td>37.789625</td>\n",
       "      <td>-122.400811</td>\n",
       "      <td>13.0</td>\n",
       "      <td>Commercial St at Montgomery St</td>\n",
       "      <td>37.794231</td>\n",
       "      <td>...</td>\n",
       "      <td>Customer</td>\n",
       "      <td>1970-01-01 00:00:00.000001984</td>\n",
       "      <td>Male</td>\n",
       "      <td>No</td>\n",
       "      <td>Thurs</td>\n",
       "      <td>Fri</td>\n",
       "      <td>1984</td>\n",
       "      <td>35</td>\n",
       "      <td>Feb</td>\n",
       "      <td>Mar</td>\n",
       "    </tr>\n",
       "    <tr>\n",
       "      <th>2</th>\n",
       "      <td>61854</td>\n",
       "      <td>2019-02-28 12:13:13.218</td>\n",
       "      <td>2019-03-01 05:24:08.146</td>\n",
       "      <td>86.0</td>\n",
       "      <td>Market St at Dolores St</td>\n",
       "      <td>37.769305</td>\n",
       "      <td>-122.426826</td>\n",
       "      <td>3.0</td>\n",
       "      <td>Powell St BART Station (Market St at 4th St)</td>\n",
       "      <td>37.786375</td>\n",
       "      <td>...</td>\n",
       "      <td>Customer</td>\n",
       "      <td>1970-01-01 00:00:00.000001972</td>\n",
       "      <td>Male</td>\n",
       "      <td>No</td>\n",
       "      <td>Thurs</td>\n",
       "      <td>Fri</td>\n",
       "      <td>1972</td>\n",
       "      <td>47</td>\n",
       "      <td>Feb</td>\n",
       "      <td>Mar</td>\n",
       "    </tr>\n",
       "    <tr>\n",
       "      <th>3</th>\n",
       "      <td>36490</td>\n",
       "      <td>2019-02-28 17:54:26.010</td>\n",
       "      <td>2019-03-01 04:02:36.842</td>\n",
       "      <td>375.0</td>\n",
       "      <td>Grove St at Masonic Ave</td>\n",
       "      <td>37.774836</td>\n",
       "      <td>-122.446546</td>\n",
       "      <td>70.0</td>\n",
       "      <td>Central Ave at Fell St</td>\n",
       "      <td>37.773311</td>\n",
       "      <td>...</td>\n",
       "      <td>Subscriber</td>\n",
       "      <td>1970-01-01 00:00:00.000001989</td>\n",
       "      <td>Other</td>\n",
       "      <td>No</td>\n",
       "      <td>Thurs</td>\n",
       "      <td>Fri</td>\n",
       "      <td>1989</td>\n",
       "      <td>30</td>\n",
       "      <td>Feb</td>\n",
       "      <td>Mar</td>\n",
       "    </tr>\n",
       "    <tr>\n",
       "      <th>4</th>\n",
       "      <td>1585</td>\n",
       "      <td>2019-02-28 23:54:18.549</td>\n",
       "      <td>2019-03-01 00:20:44.074</td>\n",
       "      <td>7.0</td>\n",
       "      <td>Frank H Ogawa Plaza</td>\n",
       "      <td>37.804562</td>\n",
       "      <td>-122.271738</td>\n",
       "      <td>222.0</td>\n",
       "      <td>10th Ave at E 15th St</td>\n",
       "      <td>37.792714</td>\n",
       "      <td>...</td>\n",
       "      <td>Subscriber</td>\n",
       "      <td>1970-01-01 00:00:00.000001974</td>\n",
       "      <td>Male</td>\n",
       "      <td>Yes</td>\n",
       "      <td>Thurs</td>\n",
       "      <td>Fri</td>\n",
       "      <td>1974</td>\n",
       "      <td>45</td>\n",
       "      <td>Feb</td>\n",
       "      <td>Mar</td>\n",
       "    </tr>\n",
       "    <tr>\n",
       "      <th>5</th>\n",
       "      <td>1793</td>\n",
       "      <td>2019-02-28 23:49:58.632</td>\n",
       "      <td>2019-03-01 00:19:51.760</td>\n",
       "      <td>93.0</td>\n",
       "      <td>4th St at Mission Bay Blvd S</td>\n",
       "      <td>37.770407</td>\n",
       "      <td>-122.391198</td>\n",
       "      <td>323.0</td>\n",
       "      <td>Broadway at Kearny</td>\n",
       "      <td>37.798014</td>\n",
       "      <td>...</td>\n",
       "      <td>Subscriber</td>\n",
       "      <td>1970-01-01 00:00:00.000001959</td>\n",
       "      <td>Male</td>\n",
       "      <td>No</td>\n",
       "      <td>Thurs</td>\n",
       "      <td>Fri</td>\n",
       "      <td>1959</td>\n",
       "      <td>60</td>\n",
       "      <td>Feb</td>\n",
       "      <td>Mar</td>\n",
       "    </tr>\n",
       "  </tbody>\n",
       "</table>\n",
       "<p>5 rows × 22 columns</p>\n",
       "</div>"
      ],
      "text/plain": [
       "   duration_sec              start_time                end_time  \\\n",
       "0         52185 2019-02-28 17:32:10.145 2019-03-01 08:01:55.975   \n",
       "2         61854 2019-02-28 12:13:13.218 2019-03-01 05:24:08.146   \n",
       "3         36490 2019-02-28 17:54:26.010 2019-03-01 04:02:36.842   \n",
       "4          1585 2019-02-28 23:54:18.549 2019-03-01 00:20:44.074   \n",
       "5          1793 2019-02-28 23:49:58.632 2019-03-01 00:19:51.760   \n",
       "\n",
       "  start_station_id                                start_station_name  \\\n",
       "0             21.0  Montgomery St BART Station (Market St at 2nd St)   \n",
       "2             86.0                           Market St at Dolores St   \n",
       "3            375.0                           Grove St at Masonic Ave   \n",
       "4              7.0                               Frank H Ogawa Plaza   \n",
       "5             93.0                      4th St at Mission Bay Blvd S   \n",
       "\n",
       "  start_station_latitude start_station_longitude end_station_id  \\\n",
       "0              37.789625             -122.400811           13.0   \n",
       "2              37.769305             -122.426826            3.0   \n",
       "3              37.774836             -122.446546           70.0   \n",
       "4              37.804562             -122.271738          222.0   \n",
       "5              37.770407             -122.391198          323.0   \n",
       "\n",
       "                               end_station_name end_station_latitude  ...  \\\n",
       "0                Commercial St at Montgomery St            37.794231  ...   \n",
       "2  Powell St BART Station (Market St at 4th St)            37.786375  ...   \n",
       "3                        Central Ave at Fell St            37.773311  ...   \n",
       "4                         10th Ave at E 15th St            37.792714  ...   \n",
       "5                            Broadway at Kearny            37.798014  ...   \n",
       "\n",
       "    user_type              member_birth_year member_gender  \\\n",
       "0    Customer  1970-01-01 00:00:00.000001984          Male   \n",
       "2    Customer  1970-01-01 00:00:00.000001972          Male   \n",
       "3  Subscriber  1970-01-01 00:00:00.000001989         Other   \n",
       "4  Subscriber  1970-01-01 00:00:00.000001974          Male   \n",
       "5  Subscriber  1970-01-01 00:00:00.000001959          Male   \n",
       "\n",
       "  bike_share_for_all_trip start_weekday end_weekday year_of_birth age  \\\n",
       "0                      No         Thurs         Fri          1984  35   \n",
       "2                      No         Thurs         Fri          1972  47   \n",
       "3                      No         Thurs         Fri          1989  30   \n",
       "4                     Yes         Thurs         Fri          1974  45   \n",
       "5                      No         Thurs         Fri          1959  60   \n",
       "\n",
       "   start_year_month  end_year_month  \n",
       "0               Feb             Mar  \n",
       "2               Feb             Mar  \n",
       "3               Feb             Mar  \n",
       "4               Feb             Mar  \n",
       "5               Feb             Mar  \n",
       "\n",
       "[5 rows x 22 columns]"
      ]
     },
     "execution_count": 439,
     "metadata": {},
     "output_type": "execute_result"
    }
   ],
   "source": [
    "#lets test to confirm our addition\n",
    "ford_bike.info()\n",
    "ford_bike.head()"
   ]
  },
  {
   "cell_type": "markdown",
   "metadata": {},
   "source": [
    "#We have now succesfully added the new columns for month and day of week. We can now proceed "
   ]
  },
  {
   "cell_type": "markdown",
   "metadata": {},
   "source": [
    "\n",
    "\n",
    ">**Rubric Tip**: Visualizations should depict the data appropriately so that the plots are easily interpretable. You should choose an appropriate plot type, data encodings, and formatting as needed. The formatting may include setting/adding the title, labels, legend, and comments. Also, do not overplot or incorrectly plot ordinal data."
   ]
  },
  {
   "cell_type": "markdown",
   "metadata": {},
   "source": [
    "### Let's investigate the distribution of our variables of interest"
   ]
  },
  {
   "cell_type": "code",
   "execution_count": 440,
   "metadata": {},
   "outputs": [
    {
     "data": {
      "text/html": [
       "<div>\n",
       "<style scoped>\n",
       "    .dataframe tbody tr th:only-of-type {\n",
       "        vertical-align: middle;\n",
       "    }\n",
       "\n",
       "    .dataframe tbody tr th {\n",
       "        vertical-align: top;\n",
       "    }\n",
       "\n",
       "    .dataframe thead th {\n",
       "        text-align: right;\n",
       "    }\n",
       "</style>\n",
       "<table border=\"1\" class=\"dataframe\">\n",
       "  <thead>\n",
       "    <tr style=\"text-align: right;\">\n",
       "      <th></th>\n",
       "      <th>duration_sec</th>\n",
       "      <th>year_of_birth</th>\n",
       "      <th>age</th>\n",
       "    </tr>\n",
       "  </thead>\n",
       "  <tbody>\n",
       "    <tr>\n",
       "      <th>count</th>\n",
       "      <td>175147.000000</td>\n",
       "      <td>175147.000000</td>\n",
       "      <td>175147.000000</td>\n",
       "    </tr>\n",
       "    <tr>\n",
       "      <th>mean</th>\n",
       "      <td>704.211845</td>\n",
       "      <td>1984.806437</td>\n",
       "      <td>34.193563</td>\n",
       "    </tr>\n",
       "    <tr>\n",
       "      <th>std</th>\n",
       "      <td>1641.608363</td>\n",
       "      <td>10.116689</td>\n",
       "      <td>10.116689</td>\n",
       "    </tr>\n",
       "    <tr>\n",
       "      <th>min</th>\n",
       "      <td>61.000000</td>\n",
       "      <td>1878.000000</td>\n",
       "      <td>18.000000</td>\n",
       "    </tr>\n",
       "    <tr>\n",
       "      <th>25%</th>\n",
       "      <td>323.000000</td>\n",
       "      <td>1980.000000</td>\n",
       "      <td>27.000000</td>\n",
       "    </tr>\n",
       "    <tr>\n",
       "      <th>50%</th>\n",
       "      <td>510.000000</td>\n",
       "      <td>1987.000000</td>\n",
       "      <td>32.000000</td>\n",
       "    </tr>\n",
       "    <tr>\n",
       "      <th>75%</th>\n",
       "      <td>789.000000</td>\n",
       "      <td>1992.000000</td>\n",
       "      <td>39.000000</td>\n",
       "    </tr>\n",
       "    <tr>\n",
       "      <th>max</th>\n",
       "      <td>84548.000000</td>\n",
       "      <td>2001.000000</td>\n",
       "      <td>141.000000</td>\n",
       "    </tr>\n",
       "  </tbody>\n",
       "</table>\n",
       "</div>"
      ],
      "text/plain": [
       "        duration_sec  year_of_birth            age\n",
       "count  175147.000000  175147.000000  175147.000000\n",
       "mean      704.211845    1984.806437      34.193563\n",
       "std      1641.608363      10.116689      10.116689\n",
       "min        61.000000    1878.000000      18.000000\n",
       "25%       323.000000    1980.000000      27.000000\n",
       "50%       510.000000    1987.000000      32.000000\n",
       "75%       789.000000    1992.000000      39.000000\n",
       "max     84548.000000    2001.000000     141.000000"
      ]
     },
     "execution_count": 440,
     "metadata": {},
     "output_type": "execute_result"
    }
   ],
   "source": [
    "ford_bike.describe()"
   ]
  },
  {
   "cell_type": "markdown",
   "metadata": {},
   "source": [
    "#These distribution gives a max value of concern. Average mean is 726 while 85444 is the max value which suggests some outrageous values or outliers"
   ]
  },
  {
   "cell_type": "markdown",
   "metadata": {},
   "source": [
    "#we will check this distribution for user_type by grouping by user_type"
   ]
  },
  {
   "cell_type": "code",
   "execution_count": 441,
   "metadata": {},
   "outputs": [
    {
     "data": {
      "text/html": [
       "<div>\n",
       "<style scoped>\n",
       "    .dataframe tbody tr th:only-of-type {\n",
       "        vertical-align: middle;\n",
       "    }\n",
       "\n",
       "    .dataframe tbody tr th {\n",
       "        vertical-align: top;\n",
       "    }\n",
       "\n",
       "    .dataframe thead tr th {\n",
       "        text-align: left;\n",
       "    }\n",
       "\n",
       "    .dataframe thead tr:last-of-type th {\n",
       "        text-align: right;\n",
       "    }\n",
       "</style>\n",
       "<table border=\"1\" class=\"dataframe\">\n",
       "  <thead>\n",
       "    <tr>\n",
       "      <th></th>\n",
       "      <th colspan=\"8\" halign=\"left\">duration_sec</th>\n",
       "      <th colspan=\"5\" halign=\"left\">year_of_birth</th>\n",
       "      <th colspan=\"8\" halign=\"left\">age</th>\n",
       "    </tr>\n",
       "    <tr>\n",
       "      <th></th>\n",
       "      <th>count</th>\n",
       "      <th>mean</th>\n",
       "      <th>std</th>\n",
       "      <th>min</th>\n",
       "      <th>25%</th>\n",
       "      <th>50%</th>\n",
       "      <th>75%</th>\n",
       "      <th>max</th>\n",
       "      <th>count</th>\n",
       "      <th>mean</th>\n",
       "      <th>...</th>\n",
       "      <th>75%</th>\n",
       "      <th>max</th>\n",
       "      <th>count</th>\n",
       "      <th>mean</th>\n",
       "      <th>std</th>\n",
       "      <th>min</th>\n",
       "      <th>25%</th>\n",
       "      <th>50%</th>\n",
       "      <th>75%</th>\n",
       "      <th>max</th>\n",
       "    </tr>\n",
       "    <tr>\n",
       "      <th>user_type</th>\n",
       "      <th></th>\n",
       "      <th></th>\n",
       "      <th></th>\n",
       "      <th></th>\n",
       "      <th></th>\n",
       "      <th></th>\n",
       "      <th></th>\n",
       "      <th></th>\n",
       "      <th></th>\n",
       "      <th></th>\n",
       "      <th></th>\n",
       "      <th></th>\n",
       "      <th></th>\n",
       "      <th></th>\n",
       "      <th></th>\n",
       "      <th></th>\n",
       "      <th></th>\n",
       "      <th></th>\n",
       "      <th></th>\n",
       "      <th></th>\n",
       "      <th></th>\n",
       "    </tr>\n",
       "  </thead>\n",
       "  <tbody>\n",
       "    <tr>\n",
       "      <th>Customer</th>\n",
       "      <td>16631.0</td>\n",
       "      <td>1310.013529</td>\n",
       "      <td>3393.541569</td>\n",
       "      <td>62.0</td>\n",
       "      <td>498.0</td>\n",
       "      <td>780.0</td>\n",
       "      <td>1232.0</td>\n",
       "      <td>83519.0</td>\n",
       "      <td>16631.0</td>\n",
       "      <td>1985.361073</td>\n",
       "      <td>...</td>\n",
       "      <td>1992.0</td>\n",
       "      <td>2001.0</td>\n",
       "      <td>16631.0</td>\n",
       "      <td>33.638927</td>\n",
       "      <td>9.478858</td>\n",
       "      <td>18.0</td>\n",
       "      <td>27.0</td>\n",
       "      <td>32.0</td>\n",
       "      <td>38.0</td>\n",
       "      <td>141.0</td>\n",
       "    </tr>\n",
       "    <tr>\n",
       "      <th>Subscriber</th>\n",
       "      <td>158516.0</td>\n",
       "      <td>640.653038</td>\n",
       "      <td>1314.116963</td>\n",
       "      <td>61.0</td>\n",
       "      <td>312.0</td>\n",
       "      <td>490.0</td>\n",
       "      <td>751.0</td>\n",
       "      <td>84548.0</td>\n",
       "      <td>158516.0</td>\n",
       "      <td>1984.748246</td>\n",
       "      <td>...</td>\n",
       "      <td>1992.0</td>\n",
       "      <td>2001.0</td>\n",
       "      <td>158516.0</td>\n",
       "      <td>34.251754</td>\n",
       "      <td>10.179569</td>\n",
       "      <td>18.0</td>\n",
       "      <td>27.0</td>\n",
       "      <td>32.0</td>\n",
       "      <td>39.0</td>\n",
       "      <td>119.0</td>\n",
       "    </tr>\n",
       "  </tbody>\n",
       "</table>\n",
       "<p>2 rows × 24 columns</p>\n",
       "</div>"
      ],
      "text/plain": [
       "           duration_sec                                                        \\\n",
       "                  count         mean          std   min    25%    50%     75%   \n",
       "user_type                                                                       \n",
       "Customer        16631.0  1310.013529  3393.541569  62.0  498.0  780.0  1232.0   \n",
       "Subscriber     158516.0   640.653038  1314.116963  61.0  312.0  490.0   751.0   \n",
       "\n",
       "                    year_of_birth               ...                       age  \\\n",
       "                max         count         mean  ...     75%     max     count   \n",
       "user_type                                       ...                             \n",
       "Customer    83519.0       16631.0  1985.361073  ...  1992.0  2001.0   16631.0   \n",
       "Subscriber  84548.0      158516.0  1984.748246  ...  1992.0  2001.0  158516.0   \n",
       "\n",
       "                                                                 \n",
       "                 mean        std   min   25%   50%   75%    max  \n",
       "user_type                                                        \n",
       "Customer    33.638927   9.478858  18.0  27.0  32.0  38.0  141.0  \n",
       "Subscriber  34.251754  10.179569  18.0  27.0  32.0  39.0  119.0  \n",
       "\n",
       "[2 rows x 24 columns]"
      ]
     },
     "execution_count": 441,
     "metadata": {},
     "output_type": "execute_result"
    }
   ],
   "source": [
    "ford_bike.groupby('user_type').describe()"
   ]
  },
  {
   "cell_type": "markdown",
   "metadata": {},
   "source": [
    "#The above shows that most trips recorded were from users who are registered subscribers."
   ]
  },
  {
   "cell_type": "code",
   "execution_count": 442,
   "metadata": {
    "scrolled": false
   },
   "outputs": [
    {
     "data": {
      "text/plain": [
       "272     308\n",
       "323     285\n",
       "305     282\n",
       "369     280\n",
       "306     276\n",
       "       ... \n",
       "5683      1\n",
       "4080      1\n",
       "2827      1\n",
       "8199      1\n",
       "2822      1\n",
       "Name: duration_sec, Length: 4432, dtype: int64"
      ]
     },
     "execution_count": 442,
     "metadata": {},
     "output_type": "execute_result"
    }
   ],
   "source": [
    "ford_bike['duration_sec'].value_counts()"
   ]
  },
  {
   "cell_type": "code",
   "execution_count": 443,
   "metadata": {},
   "outputs": [],
   "source": [
    "#ford_bike['start_weekday'] = pd.Categorical(ford_bike['start_weekday'], categories=\n",
    " #   ['Mon','Tue','Wed','Thur','Fri','Sat', 'Sun'],\n",
    "  #  ordered=True)"
   ]
  },
  {
   "cell_type": "code",
   "execution_count": 444,
   "metadata": {},
   "outputs": [],
   "source": [
    "#ford_bike['start_weekday'] =ford_bike['start_weekday'].astype('category')"
   ]
  },
  {
   "cell_type": "markdown",
   "metadata": {},
   "source": [
    "### What is the percentage of Subscribers compared to Customers?"
   ]
  },
  {
   "cell_type": "code",
   "execution_count": 445,
   "metadata": {},
   "outputs": [
    {
     "data": {
      "image/png": "[encoded data removed]",
      "text/plain": [
       "<Figure size 720x432 with 1 Axes>"
      ]
     },
     "metadata": {},
     "output_type": "display_data"
    },
    {
     "data": {
      "image/png": "[encoded data removed]",
      "text/plain": [
       "<Figure size 432x720 with 1 Axes>"
      ]
     },
     "metadata": {
      "needs_background": "light"
     },
     "output_type": "display_data"
    }
   ],
   "source": [
    "plt.figure(figsize=(10,6))\n",
    "count_of_users= ford_bike['user_type'].value_counts()\n",
    "plt.pie(count_of_users, labels = count_of_users.index, startangle = 90, counterclock = False, autopct='%1.2f%%')\n",
    "plt.figure(figsize=(6,10))\n",
    "plt.axis('square')\n",
    "plt.title('Bike User Count Comparison');"
   ]
  },
  {
   "cell_type": "markdown",
   "metadata": {},
   "source": [
    "#The visuals above shows ratio of 9:1 between Subscribers and Customers"
   ]
  },
  {
   "cell_type": "markdown",
   "metadata": {},
   "source": [
    "### On which days of the week were the highest number of trips recorded?"
   ]
  },
  {
   "cell_type": "code",
   "execution_count": 446,
   "metadata": {},
   "outputs": [
    {
     "data": {
      "image/png": "[encoded data removed]",
      "text/plain": [
       "<Figure size 432x288 with 1 Axes>"
      ]
     },
     "metadata": {
      "needs_background": "light"
     },
     "output_type": "display_data"
    }
   ],
   "source": [
    "base_color = sb.color_palette()[5]\n",
    "#type_order = ford_bike['start_weekday'].value_counts().index\n",
    "sb.countplot(data=ford_bike, x='start_weekday', color=base_color)\n",
    "def my_title_label(tt='tt',xl='xl',yl='yl'):\n",
    "    plt.title(tt) \n",
    "    plt.xlabel(xl)\n",
    "    plt.ylabel(yl);\n",
    "Title='TRIP RECORD BY DAYS OF WEEK'\n",
    "DaysofWeek='DAYS OF WEEK'\n",
    "CountofDays='COUNT OF DAYS'\n",
    "my_title_label(Title, DaysofWeek, CountofDays)"
   ]
  },
  {
   "cell_type": "markdown",
   "metadata": {},
   "source": [
    "#The visuals above shows that more trips were recorded on thursdays followed by tuesdays.\n",
    "#It can also be observed that the weekend days(Saturday and Sunday) recorded the lowest number of trips...\n",
    "#Could it be that the rides are often used to work? and only few work on weekends."
   ]
  },
  {
   "cell_type": "markdown",
   "metadata": {},
   "source": [
    "### What percent of each gender is observed for our trips record?"
   ]
  },
  {
   "cell_type": "code",
   "execution_count": 447,
   "metadata": {},
   "outputs": [
    {
     "data": {
      "text/plain": [
       "Male      130651\n",
       "Female     40844\n",
       "Other       3652\n",
       "Name: member_gender, dtype: int64"
      ]
     },
     "execution_count": 447,
     "metadata": {},
     "output_type": "execute_result"
    }
   ],
   "source": [
    "## What is the count of each gender\n",
    "ford_bike.member_gender.value_counts()"
   ]
  },
  {
   "cell_type": "code",
   "execution_count": 448,
   "metadata": {},
   "outputs": [
    {
     "data": {
      "image/png": "[encoded data removed]",
      "text/plain": [
       "<Figure size 432x288 with 1 Axes>"
      ]
     },
     "metadata": {},
     "output_type": "display_data"
    }
   ],
   "source": [
    "sorted_counts = ford_bike['member_gender'].value_counts()\n",
    "\n",
    "plt.pie(sorted_counts, labels = sorted_counts.index, startangle = 90,\n",
    "        counterclock = False, autopct='%1.2f%%', wedgeprops = {'width' : 0.4}),\n",
    "plt.axis('square'),\n",
    "plt.title('TRIPS RECORD PERCENTAGE BY GENDER');"
   ]
  },
  {
   "cell_type": "markdown",
   "metadata": {},
   "source": [
    "### In which month of the year were the highest number of trips recorded?"
   ]
  },
  {
   "cell_type": "code",
   "execution_count": 449,
   "metadata": {
    "scrolled": true
   },
   "outputs": [
    {
     "data": {
      "text/plain": [
       "Text(0, 0.5, 'Count_of_Months')"
      ]
     },
     "execution_count": 449,
     "metadata": {},
     "output_type": "execute_result"
    },
    {
     "data": {
      "image/png": "[encoded data removed]",
      "text/plain": [
       "<Figure size 432x288 with 1 Axes>"
      ]
     },
     "metadata": {
      "needs_background": "light"
     },
     "output_type": "display_data"
    }
   ],
   "source": [
    " \n",
    "base_color = sb.color_palette()[0]\n",
    "sb.countplot(data=ford_bike, x='start_year_month', color=base_color)\n",
    "plt.xlabel('Start_Time_By Months')\n",
    "plt.ylabel('Count_of_Months')"
   ]
  },
  {
   "cell_type": "markdown",
   "metadata": {},
   "source": [
    "#The visual above shows our dataset consist mainly of trips underwent in the month of february 2019.\n",
    "#We can further confirm this by checking the value count of the start_year_month column"
   ]
  },
  {
   "cell_type": "code",
   "execution_count": 450,
   "metadata": {},
   "outputs": [
    {
     "data": {
      "text/plain": [
       "Feb    175147\n",
       "Name: start_year_month, dtype: int64"
      ]
     },
     "execution_count": 450,
     "metadata": {},
     "output_type": "execute_result"
    }
   ],
   "source": [
    "ford_bike['start_year_month'].value_counts()"
   ]
  },
  {
   "cell_type": "markdown",
   "metadata": {},
   "source": [
    "### Which top 10 Bikes underwent the highest and least number of trips?"
   ]
  },
  {
   "cell_type": "code",
   "execution_count": 451,
   "metadata": {},
   "outputs": [
    {
     "data": {
      "image/png": "[encoded data removed]",
      "text/plain": [
       "<Figure size 432x288 with 1 Axes>"
      ]
     },
     "metadata": {
      "needs_background": "light"
     },
     "output_type": "display_data"
    }
   ],
   "source": [
    "type_order = ford_bike['bike_id'].value_counts().head(10).index\n",
    "base_color = sb.color_palette()[1]\n",
    "sb.countplot(data=ford_bike, x='bike_id', order =type_order, color=base_color)\n",
    "Title='TOP 10 BIKES WITH MOST TRIPS RECORDED'\n",
    "xlabel='BIKE ID'\n",
    "ylabel='COUNT OF TRIPS'\n",
    "my_title_label(Title, xlabel,ylabel)"
   ]
  },
  {
   "cell_type": "markdown",
   "metadata": {},
   "source": [
    "#The above visual shows the Bike ID with the highest trip record"
   ]
  },
  {
   "cell_type": "markdown",
   "metadata": {},
   "source": [
    "#As seen above, the Bike with ID(4794) recorded the highest number of trips\n",
    "##Now we will check out the Bikes with the least trips record"
   ]
  },
  {
   "cell_type": "code",
   "execution_count": 452,
   "metadata": {},
   "outputs": [
    {
     "data": {
      "image/png": "[encoded data removed]",
      "text/plain": [
       "<Figure size 432x288 with 1 Axes>"
      ]
     },
     "metadata": {
      "needs_background": "light"
     },
     "output_type": "display_data"
    }
   ],
   "source": [
    "ford_bike.bike_id.value_counts(ascending=False).tail(10).plot.bar()\n",
    "plt.title('TOP 10 BIKES LEAST TRIPS RECORDED')\n",
    "plt.ylabel('STATION NAMES')\n",
    "plt.xlabel('Count OF TRIPS');"
   ]
  },
  {
   "cell_type": "markdown",
   "metadata": {},
   "source": [
    "### Which start and end stations are the most frequently used?"
   ]
  },
  {
   "cell_type": "code",
   "execution_count": 453,
   "metadata": {},
   "outputs": [
    {
     "data": {
      "text/plain": [
       "329"
      ]
     },
     "execution_count": 453,
     "metadata": {},
     "output_type": "execute_result"
    }
   ],
   "source": [
    "#What is the total number of unique start stations that  we have on record?\n",
    "ford_bike['start_station_name'].nunique()"
   ]
  },
  {
   "cell_type": "code",
   "execution_count": 454,
   "metadata": {},
   "outputs": [],
   "source": [
    "#Our check shows we have 329 station names on record"
   ]
  },
  {
   "cell_type": "code",
   "execution_count": 455,
   "metadata": {},
   "outputs": [
    {
     "data": {
      "text/plain": [
       "array(['Montgomery St BART Station (Market St at 2nd St)',\n",
       "       'Market St at Dolores St', 'Grove St at Masonic Ave',\n",
       "       'Frank H Ogawa Plaza', '4th St at Mission Bay Blvd S',\n",
       "       'Palm St at Willow St', 'Washington St at Kearny St',\n",
       "       'Post St at Kearny St', 'Jones St at Post St',\n",
       "       'Civic Center/UN Plaza BART Station (Market St at McAllister St)',\n",
       "       'Valencia St at 21st St', 'Bancroft Way at College Ave',\n",
       "       'Howard St at Mary St', '22nd St at Dolores St',\n",
       "       'Laguna St at Hayes St', '5th St at Folsom',\n",
       "       'Telegraph Ave at 23rd St', 'Page St at Scott St',\n",
       "       'Lake Merritt BART Station', 'West St at 40th St',\n",
       "       'The Embarcadero at Sansome St', 'Folsom St at 9th St',\n",
       "       'University Ave at Oxford St', 'MLK Jr Way at University Ave',\n",
       "       'The Embarcadero at Bryant St', '17th St at Valencia St',\n",
       "       'Valencia St at 16th St', 'Valencia St at 22nd St',\n",
       "       'Franklin Square', 'San Pablo Ave at MLK Jr Way',\n",
       "       '19th St at Mission St', 'Market St at 10th St',\n",
       "       'Folsom St at 13th St',\n",
       "       'San Francisco Ferry Building (Harry Bridges Plaza)',\n",
       "       '4th St at 16th St', 'Beale St at Harrison St',\n",
       "       'Broadway at Battery St', 'Cesar Chavez St at Dolores St',\n",
       "       'San Fernando St at 4th St', 'Grove St at Divisadero',\n",
       "       'Sanchez St at 17th St', 'Harmon St at Adeline St',\n",
       "       'Mission Playground', 'Davis St at Jackson St',\n",
       "       'Haste St at Telegraph Ave', 'Howard St at 8th St',\n",
       "       'Folsom St at 3rd St', 'Father Alfred E Boeddeker Park',\n",
       "       'Hubbell St at 16th St',\n",
       "       'San Francisco Public Library (Grove St at Hyde St)',\n",
       "       'Bancroft Way at Telegraph Ave', '19th Street BART Station',\n",
       "       '18th St at Noe St', 'Hyde St at Post St', '24th St at Market St',\n",
       "       'Vine St at Shattuck Ave',\n",
       "       'San Francisco Caltrain (Townsend St at 4th St)',\n",
       "       'Valencia St at Clinton Park',\n",
       "       'Union Square (Powell St at Post St)', 'Broderick St at Oak St',\n",
       "       'San Francisco Caltrain Station 2  (Townsend St at 4th St)',\n",
       "       'North Berkeley BART Station', 'Downtown Berkeley BART',\n",
       "       'Channing Way at Shattuck Ave', 'Fell St at Stanyan St',\n",
       "       'San Salvador St at 9th St', 'Marston Campbell Park',\n",
       "       'Oregon St at Adeline St', '11th St at Natoma St',\n",
       "       'Harrison St at 20th St', 'Haste St at College Ave',\n",
       "       '24th St at Bartlett St', 'Sanchez St at 15th St',\n",
       "       'Telegraph Ave at 19th St',\n",
       "       'Powell St BART Station (Market St at 5th St)',\n",
       "       'Jersey St at Castro St', 'Pierce St at Haight St',\n",
       "       'MacArthur BART Station', 'El Embarcadero at Grand Ave',\n",
       "       '23rd St at San Bruno Ave', 'Golden Gate Ave at Hyde St',\n",
       "       'S Van Ness Ave at Market St', 'Jackson Playground',\n",
       "       'San Fernando St at 7th St', 'West St at University Ave',\n",
       "       'Myrtle St at Polk St', 'Woolsey St at Sacramento St',\n",
       "       'Townsend St at 7th St', 'Harrison St at 17th St',\n",
       "       'West Oakland BART Station', 'Cyril Magnin St at Ellis St',\n",
       "       'Fulton St at Bancroft Way', '14th St at Mission St',\n",
       "       'San Pedro Square', 'Market St at Franklin St',\n",
       "       'Folsom St at 19th St', 'College Ave at Taft Ave',\n",
       "       'Rhode Island St at 17th St', 'Shattuck Ave at Hearst Ave',\n",
       "       'The Embarcadero at Vallejo St', 'The Embarcadero at Steuart St',\n",
       "       'Webster St at Grove St', 'Raymond Kimbell Playground',\n",
       "       'Victoria Manalo Draves Park', '20th St at Bryant St',\n",
       "       'S Park St at 3rd St', 'Lakeshore Ave at Trestle Glen Rd',\n",
       "       'Channing Way at San Pablo Ave', 'Mission Dolores Park',\n",
       "       'Lombard St at Columbus Ave', '17th St at Dolores St',\n",
       "       'Precita Park', 'Central Ave at Fell St', '4th St at Harrison St',\n",
       "       'Horton St at 40th St', 'Golden Gate Ave at Franklin St',\n",
       "       'Embarcadero BART Station (Beale St at Market St)',\n",
       "       '9th St at San Fernando St', '3rd St at Townsend St',\n",
       "       'McCoppin St at Valencia St', '13th St at Franklin St',\n",
       "       'Mission Bay Kids Park', 'Potrero Ave and Mariposa St',\n",
       "       'Emeryville Public Market', 'Union St at 10th St',\n",
       "       'Jackson St at 11th St', 'Broadway at Kearny',\n",
       "       'Paseo De San Antonio at 2nd St', 'Valencia St at Cesar Chavez St',\n",
       "       'Rockridge BART Station', '8th St at Brannan St',\n",
       "       'College Ave at Alcatraz Ave', '16th St Mission BART Station 2',\n",
       "       'San Jose Diridon Station', 'Masonic Ave at Turk St',\n",
       "       '17th & Folsom Street Park (17th St at Folsom St)',\n",
       "       'Grand Ave at Webster St', '7th St at Brannan St',\n",
       "       'Steuart St at Market St', 'Scott St at Golden Gate Ave',\n",
       "       'Parker St at Fulton St', 'Berkeley Civic Center',\n",
       "       'Clay St at Battery St', '11th St at Bryant St',\n",
       "       'Powell St BART Station (Market St at 4th St)',\n",
       "       'Doyle St at 59th St', '34th St at Telegraph Ave', 'Esprit Park',\n",
       "       'Emeryville Town Hall', 'Division St at Potrero Ave',\n",
       "       'Irwin St at 8th St', 'Pierce Ave at Market St',\n",
       "       'Howard St at Beale St', 'Washington St at 8th St',\n",
       "       'Dolores St at 15th St', 'Hearst Ave at Euclid Ave',\n",
       "       'Telegraph Ave at Ashby Ave', '8th St at Ringold St',\n",
       "       '14th St at Mandela Pkwy', 'Morrison Ave at Julian St',\n",
       "       'Commercial St at Montgomery St', 'Church St at Duboce Ave',\n",
       "       'Townsend St at 5th St', 'Valencia St at 24th St',\n",
       "       '16th St at Prosper St', '5th St at Virginia St',\n",
       "       \"Webster St at O'Farrell St\", 'Shattuck Ave at Telegraph Ave',\n",
       "       'Jackson St at 5th St', 'Berry St at 4th St',\n",
       "       'Telegraph Ave at Carleton St', 'Ellsworth St at Russell St',\n",
       "       'Adeline St at 40th St', 'Bay Pl at Vernon St',\n",
       "       'Russell St at College Ave', '22nd St Caltrain Station',\n",
       "       'Folsom St at 15th St', 'Snow Park', nan, 'Ninth St at Heinz Ave',\n",
       "       '15th St at Potrero Ave', '23rd St at Tennessee St',\n",
       "       'McAllister St at Baker St', 'Bryant St at 2nd St',\n",
       "       'Mississippi St at 17th St', 'Ryland Park',\n",
       "       'Fountain Alley at S 2nd St', 'Ashby BART Station',\n",
       "       'Shattuck Ave at 51st St', 'Julian St at The Alameda',\n",
       "       '20th St at Dolores St', 'Broadway at Coronado Ave',\n",
       "       'Turk St at Fillmore St', 'Grand Ave at Santa Clara Ave',\n",
       "       'Eureka Valley Recreation Center', 'Parker Ave at McAllister St',\n",
       "       'Berry St at King St',\n",
       "       'Salesforce Transit Center (Natoma St at 2nd St)',\n",
       "       'San Antonio Park', 'Lakeside Dr at 14th St',\n",
       "       '16th St Mission BART', '2nd St at Townsend St',\n",
       "       'Stanford Ave at Hollis St', 'Broadway at 40th St',\n",
       "       'Mechanics Monument Plaza (Market St at Bush St)',\n",
       "       'Madison St at 17th St', 'Grand Ave at Perkins St',\n",
       "       'Garfield Square (25th St at Harrison St)', '53rd St at Hollis St',\n",
       "       '2nd St at Julian St', 'Telegraph Ave at Alcatraz Ave',\n",
       "       'San Francisco City Hall (Polk St at Grove St)',\n",
       "       '5th St at Brannan St', '10th St at Fallon St',\n",
       "       'Yerba Buena Center for the Arts (Howard St at 3rd St)',\n",
       "       '30th St at San Jose Ave', '29th St at Tiffany Ave',\n",
       "       'Webster St at 2nd St', 'Koshland Park', 'Jersey St at Church St',\n",
       "       'Santa Clara St at 7th St', 'Telegraph Ave at 58th St',\n",
       "       'Fruitvale BART Station', 'Addison St at Fourth St',\n",
       "       'Leavenworth St at Broadway', 'Telegraph Ave at 27th St',\n",
       "       'Potrero del Sol Park (25th St at Utah St)',\n",
       "       'Spear St at Folsom St', 'College Ave at Harwood Ave',\n",
       "       \"O'Farrell St at Divisadero St\", '1st St at Folsom St',\n",
       "       'Golden Gate Ave at Polk St', '5th St at San Salvador St',\n",
       "       '29th St at Church St', 'Alamo Square (Steiner St at Fulton St)',\n",
       "       'Autumn Parkway at Coleman Ave', 'Fulton St at Ashby Ave',\n",
       "       'Bryant St at 15th St', 'Howard St at 2nd St',\n",
       "       '19th St at Florida St', 'Market St at 45th St',\n",
       "       'Derby St at College Ave', 'Market St at Brockhurst St',\n",
       "       'California St at University Ave', 'MLK Jr Way at 14th St',\n",
       "       'Market St at 40th St', 'Julian St at 6th St', 'Cahill Park',\n",
       "       'San Jose City Hall', 'Virginia St at Shattuck Ave',\n",
       "       'Jack London Square', 'Webster St at 19th St',\n",
       "       '24th St at Chattanooga St', 'The Alameda at Bush St',\n",
       "       '49th St at Telegraph Ave', 'Broadway at 30th St',\n",
       "       'Bryant St at 6th St', 'Empire St at 1st St',\n",
       "       'China Basin St at 3rd St', '47th St at San Pablo Ave',\n",
       "       'Milvia St at Derby St', 'San Salvador St at 1st St',\n",
       "       '45th St at Manila', 'San Carlos St at Market St',\n",
       "       'San Pablo Ave at 27th St', 'Market St at Park St',\n",
       "       'Franklin St at 9th St', 'Almaden Blvd at San Fernando St',\n",
       "       'Oak St at 1st St', 'William St at 10th St',\n",
       "       'Isabella St at San Pablo Ave', 'Guerrero Park',\n",
       "       '10th St at University Ave', 'DeFremery Park',\n",
       "       'Fifth St at Delaware St', 'Williams Ave at 3rd St',\n",
       "       '4th Ave at E 12th St (Temporary Location)',\n",
       "       'Shattuck Ave at 55th St', '59th St at Horton St', 'SAP Center',\n",
       "       '37th St at West St', 'Almaden Blvd at Balbach St',\n",
       "       '65th St at Hollis St', 'Santa Clara St at Almaden Blvd',\n",
       "       'Ninth St at Parker St', 'Bushrod Park', 'Empire St at 7th St',\n",
       "       'Mendell St at Fairfax Ave', '16th St Depot',\n",
       "       'Newhall St at 3rd St', 'George St at 1st St',\n",
       "       'Mission St at 1st St', 'Duboce Park', 'Locust St at Grant St',\n",
       "       '32nd St at Adeline St', 'Mosswood Park',\n",
       "       'Delmas Ave and San Fernando St', 'Lane St at Revere Ave',\n",
       "       '2nd Ave at E 18th St', 'San Carlos St at 11th St',\n",
       "       'Williams Ave at Apollo St', 'MacArthur Blvd at Telegraph Ave',\n",
       "       'Bestor Art Park', 'College Ave at Bryant Ave',\n",
       "       'Miles Ave at Cavour St', 'Saint James Park',\n",
       "       '14th St at Filbert St', 'Foothill Blvd at Fruitvale Ave',\n",
       "       'Market St at 8th St', 'Backesto Park (Jackson St at 13th St)',\n",
       "       '10th Ave at E 15th St', 'Alcatraz Ave at Shattuck Ave',\n",
       "       '55th St at Telegraph Ave', 'Genoa St at 55th St',\n",
       "       'Dover St at 57th St', 'San Pablo Park',\n",
       "       '6th Ave at E 12th St (Temporary Location)', 'Taylor St at 9th St',\n",
       "       '27th St at MLK Jr Way', 'Foothill Blvd at Harrington Ave',\n",
       "       '23rd Ave at Foothill Blvd', 'San Pedro St at Hedding St',\n",
       "       '45th St at MLK Jr Way', '5th St at Taylor St',\n",
       "       'Foothill Blvd at 42nd Ave', 'Willow St at Vine St',\n",
       "       '26th Ave at International Blvd', 'Farnam St at Fruitvale Ave',\n",
       "       '21st Ave at International Blvd', '2nd St at Folsom St'],\n",
       "      dtype=object)"
      ]
     },
     "execution_count": 455,
     "metadata": {},
     "output_type": "execute_result"
    }
   ],
   "source": [
    "ford_bike.start_station_name.unique()"
   ]
  },
  {
   "cell_type": "code",
   "execution_count": 456,
   "metadata": {},
   "outputs": [],
   "source": [
    "#What are the top 10 of the most used start stations?\n",
    "\n",
    "top10_start_station = ford_bike['start_station_name'].value_counts().index[:10]"
   ]
  },
  {
   "cell_type": "code",
   "execution_count": 457,
   "metadata": {},
   "outputs": [
    {
     "data": {
      "text/plain": [
       "Index(['Market St at 10th St',\n",
       "       'San Francisco Caltrain Station 2  (Townsend St at 4th St)',\n",
       "       'Berry St at 4th St',\n",
       "       'Montgomery St BART Station (Market St at 2nd St)',\n",
       "       'Powell St BART Station (Market St at 4th St)',\n",
       "       'San Francisco Caltrain (Townsend St at 4th St)',\n",
       "       'San Francisco Ferry Building (Harry Bridges Plaza)',\n",
       "       'Howard St at Beale St', 'Steuart St at Market St',\n",
       "       'Powell St BART Station (Market St at 5th St)'],\n",
       "      dtype='object')"
      ]
     },
     "execution_count": 457,
     "metadata": {},
     "output_type": "execute_result"
    }
   ],
   "source": [
    "top10_start_station"
   ]
  },
  {
   "cell_type": "code",
   "execution_count": 458,
   "metadata": {},
   "outputs": [],
   "source": [
    "#Lets have a datatable for our top 10 stations only\n",
    "\n",
    "top10_start_station_df = ford_bike.loc[ford_bike['start_station_name'].isin(top10_start_station)]"
   ]
  },
  {
   "cell_type": "code",
   "execution_count": 459,
   "metadata": {},
   "outputs": [
    {
     "data": {
      "text/html": [
       "<div>\n",
       "<style scoped>\n",
       "    .dataframe tbody tr th:only-of-type {\n",
       "        vertical-align: middle;\n",
       "    }\n",
       "\n",
       "    .dataframe tbody tr th {\n",
       "        vertical-align: top;\n",
       "    }\n",
       "\n",
       "    .dataframe thead th {\n",
       "        text-align: right;\n",
       "    }\n",
       "</style>\n",
       "<table border=\"1\" class=\"dataframe\">\n",
       "  <thead>\n",
       "    <tr style=\"text-align: right;\">\n",
       "      <th></th>\n",
       "      <th>duration_sec</th>\n",
       "      <th>start_time</th>\n",
       "      <th>end_time</th>\n",
       "      <th>start_station_id</th>\n",
       "      <th>start_station_name</th>\n",
       "      <th>start_station_latitude</th>\n",
       "      <th>start_station_longitude</th>\n",
       "      <th>end_station_id</th>\n",
       "      <th>end_station_name</th>\n",
       "      <th>end_station_latitude</th>\n",
       "      <th>...</th>\n",
       "      <th>user_type</th>\n",
       "      <th>member_birth_year</th>\n",
       "      <th>member_gender</th>\n",
       "      <th>bike_share_for_all_trip</th>\n",
       "      <th>start_weekday</th>\n",
       "      <th>end_weekday</th>\n",
       "      <th>year_of_birth</th>\n",
       "      <th>age</th>\n",
       "      <th>start_year_month</th>\n",
       "      <th>end_year_month</th>\n",
       "    </tr>\n",
       "  </thead>\n",
       "  <tbody>\n",
       "    <tr>\n",
       "      <th>66927</th>\n",
       "      <td>534</td>\n",
       "      <td>2019-02-20 08:22:28.838</td>\n",
       "      <td>2019-02-20 08:31:22.932</td>\n",
       "      <td>30.0</td>\n",
       "      <td>San Francisco Caltrain (Townsend St at 4th St)</td>\n",
       "      <td>37.776598</td>\n",
       "      <td>-122.395282</td>\n",
       "      <td>22.0</td>\n",
       "      <td>Howard St at Beale St</td>\n",
       "      <td>37.789756</td>\n",
       "      <td>...</td>\n",
       "      <td>Subscriber</td>\n",
       "      <td>1970-01-01 00:00:00.000001973</td>\n",
       "      <td>Male</td>\n",
       "      <td>No</td>\n",
       "      <td>Weds</td>\n",
       "      <td>Weds</td>\n",
       "      <td>1973</td>\n",
       "      <td>46</td>\n",
       "      <td>Feb</td>\n",
       "      <td>Feb</td>\n",
       "    </tr>\n",
       "    <tr>\n",
       "      <th>63388</th>\n",
       "      <td>164</td>\n",
       "      <td>2019-02-20 15:12:15.284</td>\n",
       "      <td>2019-02-20 15:14:59.990</td>\n",
       "      <td>58.0</td>\n",
       "      <td>Market St at 10th St</td>\n",
       "      <td>37.776619</td>\n",
       "      <td>-122.417385</td>\n",
       "      <td>383.0</td>\n",
       "      <td>Golden Gate Ave at Franklin St</td>\n",
       "      <td>37.780787</td>\n",
       "      <td>...</td>\n",
       "      <td>Subscriber</td>\n",
       "      <td>1970-01-01 00:00:00.000001989</td>\n",
       "      <td>Male</td>\n",
       "      <td>No</td>\n",
       "      <td>Weds</td>\n",
       "      <td>Weds</td>\n",
       "      <td>1989</td>\n",
       "      <td>30</td>\n",
       "      <td>Feb</td>\n",
       "      <td>Feb</td>\n",
       "    </tr>\n",
       "    <tr>\n",
       "      <th>65041</th>\n",
       "      <td>816</td>\n",
       "      <td>2019-02-20 10:10:53.886</td>\n",
       "      <td>2019-02-20 10:24:30.399</td>\n",
       "      <td>67.0</td>\n",
       "      <td>San Francisco Caltrain Station 2  (Townsend St...</td>\n",
       "      <td>37.776639</td>\n",
       "      <td>-122.395526</td>\n",
       "      <td>21.0</td>\n",
       "      <td>Montgomery St BART Station (Market St at 2nd St)</td>\n",
       "      <td>37.789625</td>\n",
       "      <td>...</td>\n",
       "      <td>Subscriber</td>\n",
       "      <td>1970-01-01 00:00:00.000001980</td>\n",
       "      <td>Male</td>\n",
       "      <td>No</td>\n",
       "      <td>Weds</td>\n",
       "      <td>Weds</td>\n",
       "      <td>1980</td>\n",
       "      <td>39</td>\n",
       "      <td>Feb</td>\n",
       "      <td>Feb</td>\n",
       "    </tr>\n",
       "    <tr>\n",
       "      <th>34317</th>\n",
       "      <td>252</td>\n",
       "      <td>2019-02-24 04:07:37.220</td>\n",
       "      <td>2019-02-24 04:11:49.311</td>\n",
       "      <td>3.0</td>\n",
       "      <td>Powell St BART Station (Market St at 4th St)</td>\n",
       "      <td>37.786375</td>\n",
       "      <td>-122.404904</td>\n",
       "      <td>44.0</td>\n",
       "      <td>Civic Center/UN Plaza BART Station (Market St ...</td>\n",
       "      <td>37.781074</td>\n",
       "      <td>...</td>\n",
       "      <td>Subscriber</td>\n",
       "      <td>1970-01-01 00:00:00.000001994</td>\n",
       "      <td>Male</td>\n",
       "      <td>No</td>\n",
       "      <td>Sun</td>\n",
       "      <td>Sun</td>\n",
       "      <td>1994</td>\n",
       "      <td>25</td>\n",
       "      <td>Feb</td>\n",
       "      <td>Feb</td>\n",
       "    </tr>\n",
       "    <tr>\n",
       "      <th>171077</th>\n",
       "      <td>546</td>\n",
       "      <td>2019-02-04 06:42:19.622</td>\n",
       "      <td>2019-02-04 06:51:26.020</td>\n",
       "      <td>67.0</td>\n",
       "      <td>San Francisco Caltrain Station 2  (Townsend St...</td>\n",
       "      <td>37.776639</td>\n",
       "      <td>-122.395526</td>\n",
       "      <td>77.0</td>\n",
       "      <td>11th St at Natoma St</td>\n",
       "      <td>37.773507</td>\n",
       "      <td>...</td>\n",
       "      <td>Subscriber</td>\n",
       "      <td>1970-01-01 00:00:00.000001984</td>\n",
       "      <td>Male</td>\n",
       "      <td>No</td>\n",
       "      <td>Mon</td>\n",
       "      <td>Mon</td>\n",
       "      <td>1984</td>\n",
       "      <td>35</td>\n",
       "      <td>Feb</td>\n",
       "      <td>Feb</td>\n",
       "    </tr>\n",
       "  </tbody>\n",
       "</table>\n",
       "<p>5 rows × 22 columns</p>\n",
       "</div>"
      ],
      "text/plain": [
       "        duration_sec              start_time                end_time  \\\n",
       "66927            534 2019-02-20 08:22:28.838 2019-02-20 08:31:22.932   \n",
       "63388            164 2019-02-20 15:12:15.284 2019-02-20 15:14:59.990   \n",
       "65041            816 2019-02-20 10:10:53.886 2019-02-20 10:24:30.399   \n",
       "34317            252 2019-02-24 04:07:37.220 2019-02-24 04:11:49.311   \n",
       "171077           546 2019-02-04 06:42:19.622 2019-02-04 06:51:26.020   \n",
       "\n",
       "       start_station_id                                 start_station_name  \\\n",
       "66927              30.0     San Francisco Caltrain (Townsend St at 4th St)   \n",
       "63388              58.0                               Market St at 10th St   \n",
       "65041              67.0  San Francisco Caltrain Station 2  (Townsend St...   \n",
       "34317               3.0       Powell St BART Station (Market St at 4th St)   \n",
       "171077             67.0  San Francisco Caltrain Station 2  (Townsend St...   \n",
       "\n",
       "       start_station_latitude start_station_longitude end_station_id  \\\n",
       "66927               37.776598             -122.395282           22.0   \n",
       "63388               37.776619             -122.417385          383.0   \n",
       "65041               37.776639             -122.395526           21.0   \n",
       "34317               37.786375             -122.404904           44.0   \n",
       "171077              37.776639             -122.395526           77.0   \n",
       "\n",
       "                                         end_station_name  \\\n",
       "66927                               Howard St at Beale St   \n",
       "63388                      Golden Gate Ave at Franklin St   \n",
       "65041    Montgomery St BART Station (Market St at 2nd St)   \n",
       "34317   Civic Center/UN Plaza BART Station (Market St ...   \n",
       "171077                               11th St at Natoma St   \n",
       "\n",
       "       end_station_latitude  ...   user_type              member_birth_year  \\\n",
       "66927             37.789756  ...  Subscriber  1970-01-01 00:00:00.000001973   \n",
       "63388             37.780787  ...  Subscriber  1970-01-01 00:00:00.000001989   \n",
       "65041             37.789625  ...  Subscriber  1970-01-01 00:00:00.000001980   \n",
       "34317             37.781074  ...  Subscriber  1970-01-01 00:00:00.000001994   \n",
       "171077            37.773507  ...  Subscriber  1970-01-01 00:00:00.000001984   \n",
       "\n",
       "       member_gender bike_share_for_all_trip start_weekday end_weekday  \\\n",
       "66927           Male                      No          Weds        Weds   \n",
       "63388           Male                      No          Weds        Weds   \n",
       "65041           Male                      No          Weds        Weds   \n",
       "34317           Male                      No           Sun         Sun   \n",
       "171077          Male                      No           Mon         Mon   \n",
       "\n",
       "       year_of_birth age  start_year_month  end_year_month  \n",
       "66927           1973  46               Feb             Feb  \n",
       "63388           1989  30               Feb             Feb  \n",
       "65041           1980  39               Feb             Feb  \n",
       "34317           1994  25               Feb             Feb  \n",
       "171077          1984  35               Feb             Feb  \n",
       "\n",
       "[5 rows x 22 columns]"
      ]
     },
     "execution_count": 459,
     "metadata": {},
     "output_type": "execute_result"
    }
   ],
   "source": [
    "top10_start_station_df.sample(5)"
   ]
  },
  {
   "cell_type": "code",
   "execution_count": 460,
   "metadata": {},
   "outputs": [
    {
     "data": {
      "image/png": "[encoded data removed]",
      "text/plain": [
       "<Figure size 432x288 with 1 Axes>"
      ]
     },
     "metadata": {
      "needs_background": "light"
     },
     "output_type": "display_data"
    }
   ],
   "source": [
    "\n",
    "base_color = sb.color_palette()[3]\n",
    "sb.countplot(data=top10_start_station_df, y='start_station_name', color=base_color)\n",
    "plt.title('TOP 10 MOST USED START STATION NAME')\n",
    "plt.ylabel('STATION NAME')\n",
    "plt.xlabel('Count OF TRIPS');"
   ]
  },
  {
   "cell_type": "markdown",
   "metadata": {},
   "source": [
    "#The above gives insight on the top 10 start stations. We would see if this stations would also be the top 10 end stations"
   ]
  },
  {
   "cell_type": "markdown",
   "metadata": {},
   "source": [
    "### What are the most frequently used end stations?"
   ]
  },
  {
   "cell_type": "code",
   "execution_count": 461,
   "metadata": {},
   "outputs": [
    {
     "data": {
      "image/png": "[encoded data removed]",
      "text/plain": [
       "<Figure size 432x288 with 1 Axes>"
      ]
     },
     "metadata": {
      "needs_background": "light"
     },
     "output_type": "display_data"
    }
   ],
   "source": [
    "ford_bike.end_station_name.value_counts(ascending=False).head(10).plot.barh()\n",
    "plt.title('TOP 10 MOST USED END STATION NAME')\n",
    "plt.ylabel('STATION NAMES')\n",
    "plt.xlabel('Count OF TRIPS');"
   ]
  },
  {
   "cell_type": "markdown",
   "metadata": {},
   "source": [
    "#San Francisco Caltrain station 2 appears to be the busiest end station while Market Station is the busiest start station\n",
    "#Further investigation may give us an insight as to the raeson for thae observation made above."
   ]
  },
  {
   "cell_type": "markdown",
   "metadata": {},
   "source": [
    "### What is the age distribution of riders for the top 10 start stations?"
   ]
  },
  {
   "cell_type": "code",
   "execution_count": 462,
   "metadata": {},
   "outputs": [
    {
     "data": {
      "image/png": "[encoded data removed]",
      "text/plain": [
       "<Figure size 432x288 with 1 Axes>"
      ]
     },
     "metadata": {
      "needs_background": "light"
     },
     "output_type": "display_data"
    }
   ],
   "source": [
    "bins = np.arange(0, top10_start_station_df['age'].max()+5, 5)\n",
    "base_color = sb.color_palette()[4]\n",
    "plt.hist(data=top10_start_station_df, x='age', bins=bins, color=base_color)\n",
    "plt.title('AGE WITH HIGHEST TRIP RECORDS')\n",
    "plt.xlabel('AGE RANGE')\n",
    "plt.ylabel('Count_of_RIDERS');"
   ]
  },
  {
   "cell_type": "markdown",
   "metadata": {},
   "source": [
    "#The above histogram plot show a top peak for riders within the age of 30 to 35. A noticeable gradual drop can be seen as the age increases."
   ]
  },
  {
   "cell_type": "markdown",
   "metadata": {},
   "source": [
    "## Bivariate Exploration\n"
   ]
  },
  {
   "cell_type": "markdown",
   "metadata": {},
   "source": [
    "### Is there a positive correlation between Age and trip Duration?"
   ]
  },
  {
   "cell_type": "code",
   "execution_count": 463,
   "metadata": {},
   "outputs": [
    {
     "data": {
      "image/png": "[encoded data removed]",
      "text/plain": [
       "<Figure size 432x288 with 1 Axes>"
      ]
     },
     "metadata": {
      "needs_background": "light"
     },
     "output_type": "display_data"
    }
   ],
   "source": [
    "plt.scatter(data = top10_start_station_df, x = 'age', y = 'duration_sec');\n",
    "plt.ylabel('Trip Duration(Sec)')\n",
    "plt.xlabel('Age Range');"
   ]
  },
  {
   "cell_type": "markdown",
   "metadata": {},
   "source": [
    "#The above plot shows a negative correlation between age and trip duration."
   ]
  },
  {
   "cell_type": "markdown",
   "metadata": {},
   "source": [
    "### Whats the count of User types by Gender?"
   ]
  },
  {
   "cell_type": "code",
   "execution_count": 464,
   "metadata": {
    "scrolled": true
   },
   "outputs": [
    {
     "data": {
      "image/png": "[encoded data removed]",
      "text/plain": [
       "<Figure size 432x288 with 1 Axes>"
      ]
     },
     "metadata": {
      "needs_background": "light"
     },
     "output_type": "display_data"
    }
   ],
   "source": [
    "sb.countplot(data = ford_bike, x = 'member_gender', hue = 'user_type')\n",
    "plt.title('USER TYPE BY MEMBER GENDER');"
   ]
  },
  {
   "cell_type": "markdown",
   "metadata": {},
   "source": [
    "#The trend above shows there are higher number of subscribers thn customers for both gender and similar trend for the other category."
   ]
  },
  {
   "cell_type": "markdown",
   "metadata": {},
   "source": [
    "### How many trips were recorded by each gender category for the different days of the week?"
   ]
  },
  {
   "cell_type": "code",
   "execution_count": 465,
   "metadata": {},
   "outputs": [
    {
     "data": {
      "image/png": "[encoded data removed]",
      "text/plain": [
       "<Figure size 432x288 with 1 Axes>"
      ]
     },
     "metadata": {
      "needs_background": "light"
     },
     "output_type": "display_data"
    }
   ],
   "source": [
    "sb.countplot(data = ford_bike, x = 'start_weekday', hue = 'member_gender')\n",
    "plt.title('WEEKDAY TRIP BY GENDER');"
   ]
  },
  {
   "cell_type": "markdown",
   "metadata": {},
   "source": [
    "#Our plot shows the weekend (Saturday and Sunday) has the least record with the males recording more trips than females."
   ]
  },
  {
   "cell_type": "markdown",
   "metadata": {},
   "source": [
    "### How many trips were recorded by each user category for the different days of the week?"
   ]
  },
  {
   "cell_type": "code",
   "execution_count": 466,
   "metadata": {},
   "outputs": [
    {
     "data": {
      "image/png": "[encoded data removed]",
      "text/plain": [
       "<Figure size 432x288 with 1 Axes>"
      ]
     },
     "metadata": {
      "needs_background": "light"
     },
     "output_type": "display_data"
    }
   ],
   "source": [
    "sb.countplot(data = ford_bike, x = 'start_weekday', hue = 'user_type')\n",
    "plt.title('WEEKDAY TRIPS BY USER TYPE');"
   ]
  },
  {
   "cell_type": "markdown",
   "metadata": {},
   "source": [
    "#Our plot shows the weekend (Saturday and Sunday) has the least record with the subscribers recording more trips than females."
   ]
  },
  {
   "cell_type": "markdown",
   "metadata": {},
   "source": [
    "## Multivariate Exploration\n"
   ]
  },
  {
   "cell_type": "markdown",
   "metadata": {},
   "source": [
    "### What's the Trip duration for the two user types at the top 10 start stations?"
   ]
  },
  {
   "cell_type": "code",
   "execution_count": 467,
   "metadata": {},
   "outputs": [
    {
     "data": {
      "image/png": "[encoded data removed]",
      "text/plain": [
       "<Figure size 432x288 with 1 Axes>"
      ]
     },
     "metadata": {
      "needs_background": "light"
     },
     "output_type": "display_data"
    }
   ],
   "source": [
    "sb.barplot(data=top10_start_station_df, y='start_station_name', x='duration_sec', ci=None, hue='user_type', orient='h')\n",
    "plt.title('Start Station By User Type Trip duration (sec)', fontsize=15);"
   ]
  },
  {
   "cell_type": "markdown",
   "metadata": {},
   "source": [
    "#Surprisingly!, as against previous trends, here we have the customers having the longer trip duration records.\n",
    "#There is probably a reason why subscribers are undergoing shorter trips compared to the customers...\n",
    "#...Could this be related to pricing?\n",
    "#Also, the subscribers seem to have a regular trip duration for all stations compared to the irregular trend for customers"
   ]
  },
  {
   "cell_type": "markdown",
   "metadata": {},
   "source": [
    "### Is there a difference in age range of the different user types for the top 10 start stations?"
   ]
  },
  {
   "cell_type": "code",
   "execution_count": 468,
   "metadata": {},
   "outputs": [
    {
     "data": {
      "image/png": "[encoded data removed]",
      "text/plain": [
       "<Figure size 432x288 with 1 Axes>"
      ]
     },
     "metadata": {
      "needs_background": "light"
     },
     "output_type": "display_data"
    }
   ],
   "source": [
    "sb.barplot(data=top10_start_station_df, y='start_station_name', x='age', ci=None, hue='user_type', orient='h')\n",
    "plt.title('Top 10 Start Stations By User Type and Age', fontsize=15);"
   ]
  },
  {
   "cell_type": "markdown",
   "metadata": {},
   "source": [
    "#The plot above shows a close relationship for age range of the two users at the top 10 start stations"
   ]
  },
  {
   "cell_type": "markdown",
   "metadata": {},
   "source": [
    "### What's the relationship between Age range, Trip Duration and User Type?"
   ]
  },
  {
   "cell_type": "code",
   "execution_count": 469,
   "metadata": {},
   "outputs": [
    {
     "data": {
      "image/png": "[encoded data removed]",
      "text/plain": [
       "<Figure size 432x288 with 1 Axes>"
      ]
     },
     "metadata": {
      "needs_background": "light"
     },
     "output_type": "display_data"
    }
   ],
   "source": [
    "markers = {'Customer': 's'}\n",
    "for marks in markers:\n",
    "    plt.scatter(ford_bike['age'], ford_bike['duration_sec'], marker = markers[marks], alpha=0.2)\n",
    "    plt.axis([10, 100, -500, 9000])\n",
    "    plt.legend(['Customer','Subscriber'])\n",
    "    plt.ylabel('Trip Duration(Sec)')\n",
    "    plt.xlabel('Age Range')\n",
    "plt.show();\n"
   ]
  },
  {
   "cell_type": "code",
   "execution_count": 470,
   "metadata": {
    "scrolled": true
   },
   "outputs": [
    {
     "data": {
      "image/png": "[encoded data removed]",
      "text/plain": [
       "<Figure size 432x288 with 1 Axes>"
      ]
     },
     "metadata": {
      "needs_background": "light"
     },
     "output_type": "display_data"
    }
   ],
   "source": [
    "markers = {'Subscriber': 'o'}\n",
    "for marks in markers:\n",
    "    plt.scatter(ford_bike['age'], ford_bike['duration_sec'], marker = markers[marks], alpha=0.2)\n",
    "    plt.axis([10, 100, -500, 9000])\n",
    "    plt.legend(['Customer','Subscriber'])\n",
    "    plt.ylabel('Trip Duration(Sec)')\n",
    "    plt.xlabel('Age Range')\n",
    "plt.show();\n"
   ]
  },
  {
   "cell_type": "markdown",
   "metadata": {},
   "source": [
    "> The above plots show a similar trend for Customers and Subscribers."
   ]
  },
  {
   "cell_type": "code",
   "execution_count": 471,
   "metadata": {},
   "outputs": [],
   "source": [
    "ford_bike.to_csv('ford_bike_df')"
   ]
  },
  {
   "cell_type": "markdown",
   "metadata": {},
   "source": [
    "## Conclusions\n"
   ]
  },
  {
   "cell_type": "markdown",
   "metadata": {},
   "source": [
    ">The visual exploration has been carried out on the Ford Gobike dataset and the following are some of my findings:\n",
    "\n",
    ">1. The dataset is a bike trip records for February 2019 \n",
    ">2. There are more trips record for males than females. \n",
    ">3. There are more trip records for those who subscribe to the trip service than customers\n",
    ">4. The customers embarked on longer trips compared to those who subscribed to the service.\n",
    ">5. People within the age of 30 to 35 have the highest trip records. \n",
    ">6. There is a noticeable sharp decline in patronage from age 35 and above.\n",
    ">7. There is a similar age sistribution between the subscribers and customers.\n",
    ">8. The weekend has the lowest trips record compared to other days of the week "
   ]
  }
 ],
 "metadata": {
  "kernelspec": {
   "display_name": "Python 3 (ipykernel)",
   "language": "python",
   "name": "python3"
  },
  "language_info": {
   "codemirror_mode": {
    "name": "ipython",
    "version": 3
   },
   "file_extension": ".py",
   "mimetype": "text/x-python",
   "name": "python",
   "nbconvert_exporter": "python",
   "pygments_lexer": "ipython3",
   "version": "3.9.12"
  }
 },
 "nbformat": 4,
 "nbformat_minor": 2
}
